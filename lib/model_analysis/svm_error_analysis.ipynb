{
 "cells": [
  {
   "cell_type": "markdown",
   "metadata": {},
   "source": [
    "# Error analysis"
   ]
  },
  {
   "cell_type": "code",
   "execution_count": 5,
   "metadata": {},
   "outputs": [],
   "source": [
    "import pandas as pd\n",
    "import numpy as np\n",
    "\n",
    "## Data path handlers\n",
    "TRAIN_TEST_SET_PATH = 'dataset/'\n",
    "META_DATA_PATH = '../../Data/meta/'\n",
    "AUG_SET_PATH = '../../Data/aug_data_all/'\n",
    "MODEL_PATH = 'models/'\n",
    "IMAGES_PATH = '../../Images/'\n",
    "\n",
    "## Selecting the desired features\n",
    "parameters = ['fz','mz']"
   ]
  },
  {
   "cell_type": "code",
   "execution_count": 6,
   "metadata": {},
   "outputs": [],
   "source": [
    "### Getting data\n",
    "X_train = pd.read_csv(TRAIN_TEST_SET_PATH+'X_train.csv',index_col=0)\n",
    "y_train = pd.read_csv(TRAIN_TEST_SET_PATH+'y_train.csv',index_col=0)\n",
    "X_test = pd.read_csv(TRAIN_TEST_SET_PATH+'X_test.csv',index_col=0)\n",
    "y_test = pd.read_csv(TRAIN_TEST_SET_PATH+'y_test.csv',index_col=0)"
   ]
  },
  {
   "cell_type": "code",
   "execution_count": 7,
   "metadata": {},
   "outputs": [],
   "source": [
    "### Standardizing the data\n",
    "f_z = X_train.iloc[:, X_train.columns.str.contains(parameters[0])]\n",
    "f_z = f_z/30\n",
    "m_z = X_train.iloc[:, X_train.columns.str.contains(parameters[1])]\n",
    "m_z = m_z/3\n",
    "frames = [f_z, m_z]\n",
    "X_train = pd.concat(frames, axis=1)\n",
    "f_z = X_test.iloc[:, X_test.columns.str.contains(parameters[0])]\n",
    "f_z = f_z/30\n",
    "m_z = X_test.iloc[:, X_test.columns.str.contains(parameters[1])]\n",
    "m_z = m_z/3\n",
    "frames = [f_z, m_z]\n",
    "X_test = pd.concat(frames, axis=1)"
   ]
  },
  {
   "cell_type": "code",
   "execution_count": 8,
   "metadata": {},
   "outputs": [],
   "source": [
    "### Creating the validation set\n",
    "X_train['labels'] = y_train.copy()\n",
    "\n",
    "from sklearn.model_selection import StratifiedShuffleSplit\n",
    "split = StratifiedShuffleSplit(n_splits=1, test_size=0.2, random_state=27)\n",
    "for train, val in split.split(X_train, X_train['labels']):\n",
    "    X_train_vl = X_train.iloc[train].copy()\n",
    "    X_val = X_train.iloc[val].copy()\n",
    "    \n",
    "y_train_vl = X_train_vl['labels'].copy()\n",
    "y_val = X_val['labels'].copy()\n",
    "\n",
    "X_train_vl = X_train_vl.iloc[:, ~X_train_vl.columns.str.contains('labels')]\n",
    "X_val = X_val.iloc[:, ~X_val.columns.str.contains('labels')]\n",
    "X_train = X_train.iloc[:, ~X_train.columns.str.contains('labels')]\n",
    "X_train = np.array(X_train)\n",
    "X_test = np.array(X_test)\n",
    "\n",
    "y_train_vl = np.array(y_train_vl)\n",
    "y_val = np.array(y_val)\n",
    "y_test = np.array(y_test)\n",
    "y_train = np.array(y_train)"
   ]
  },
  {
   "cell_type": "markdown",
   "metadata": {},
   "source": [
    "### Checking performance improvement feeding a stream of data"
   ]
  },
  {
   "cell_type": "code",
   "execution_count": 12,
   "metadata": {},
   "outputs": [
    {
     "name": "stdout",
     "output_type": "stream",
     "text": [
      "Model: \n",
      "C: 0.5 gamma: 0.05 Kernel: rbf\n"
     ]
    }
   ],
   "source": [
    "### Here we're going to retrain the model for each data set size.\n",
    "### ranging from 1 to len(X_train)\n",
    "\n",
    "## This variable will get the stats fo each training results\n",
    "stats = []\n",
    "## The amount of data added for each training\n",
    "data_batch = 2\n",
    "number_of_steps = int(X_train.shape[0]/data_batch)\n",
    "## Recreating the optimized model but with re-initialized weights in order to fit them with each data size\n",
    "model_param = pd.read_csv(MODEL_PATH+'svm_original_data.csv',index_col=0)\n",
    "C = model_param['C'].iloc[0]\n",
    "gamma = model_param['gamma'].iloc[0]\n",
    "kernel = model_param['kernel'].iloc[0]\n",
    "print(\"Model: \\nC: \" + str(C) + \" gamma: \" + str(gamma) + \" Kernel: \" + str(kernel))"
   ]
  },
  {
   "cell_type": "code",
   "execution_count": 15,
   "metadata": {},
   "outputs": [
    {
     "name": "stderr",
     "output_type": "stream",
     "text": [
      "/home/matheus/anaconda3/lib/python3.7/site-packages/sklearn/utils/validation.py:760: DataConversionWarning: A column-vector y was passed when a 1d array was expected. Please change the shape of y to (n_samples, ), for example using ravel().\n",
      "  y = column_or_1d(y, warn=True)\n",
      "/home/matheus/anaconda3/lib/python3.7/site-packages/sklearn/utils/validation.py:760: DataConversionWarning: A column-vector y was passed when a 1d array was expected. Please change the shape of y to (n_samples, ), for example using ravel().\n",
      "  y = column_or_1d(y, warn=True)\n",
      "/home/matheus/anaconda3/lib/python3.7/site-packages/sklearn/utils/validation.py:760: DataConversionWarning: A column-vector y was passed when a 1d array was expected. Please change the shape of y to (n_samples, ), for example using ravel().\n",
      "  y = column_or_1d(y, warn=True)\n",
      "/home/matheus/anaconda3/lib/python3.7/site-packages/sklearn/utils/validation.py:760: DataConversionWarning: A column-vector y was passed when a 1d array was expected. Please change the shape of y to (n_samples, ), for example using ravel().\n",
      "  y = column_or_1d(y, warn=True)\n",
      "/home/matheus/anaconda3/lib/python3.7/site-packages/sklearn/utils/validation.py:760: DataConversionWarning: A column-vector y was passed when a 1d array was expected. Please change the shape of y to (n_samples, ), for example using ravel().\n",
      "  y = column_or_1d(y, warn=True)\n",
      "/home/matheus/anaconda3/lib/python3.7/site-packages/sklearn/utils/validation.py:760: DataConversionWarning: A column-vector y was passed when a 1d array was expected. Please change the shape of y to (n_samples, ), for example using ravel().\n",
      "  y = column_or_1d(y, warn=True)\n",
      "/home/matheus/anaconda3/lib/python3.7/site-packages/sklearn/utils/validation.py:760: DataConversionWarning: A column-vector y was passed when a 1d array was expected. Please change the shape of y to (n_samples, ), for example using ravel().\n",
      "  y = column_or_1d(y, warn=True)\n",
      "/home/matheus/anaconda3/lib/python3.7/site-packages/sklearn/utils/validation.py:760: DataConversionWarning: A column-vector y was passed when a 1d array was expected. Please change the shape of y to (n_samples, ), for example using ravel().\n",
      "  y = column_or_1d(y, warn=True)\n",
      "/home/matheus/anaconda3/lib/python3.7/site-packages/sklearn/utils/validation.py:760: DataConversionWarning: A column-vector y was passed when a 1d array was expected. Please change the shape of y to (n_samples, ), for example using ravel().\n",
      "  y = column_or_1d(y, warn=True)\n",
      "/home/matheus/anaconda3/lib/python3.7/site-packages/sklearn/utils/validation.py:760: DataConversionWarning: A column-vector y was passed when a 1d array was expected. Please change the shape of y to (n_samples, ), for example using ravel().\n",
      "  y = column_or_1d(y, warn=True)\n",
      "/home/matheus/anaconda3/lib/python3.7/site-packages/sklearn/utils/validation.py:760: DataConversionWarning: A column-vector y was passed when a 1d array was expected. Please change the shape of y to (n_samples, ), for example using ravel().\n",
      "  y = column_or_1d(y, warn=True)\n",
      "/home/matheus/anaconda3/lib/python3.7/site-packages/sklearn/utils/validation.py:760: DataConversionWarning: A column-vector y was passed when a 1d array was expected. Please change the shape of y to (n_samples, ), for example using ravel().\n",
      "  y = column_or_1d(y, warn=True)\n"
     ]
    },
    {
     "name": "stdout",
     "output_type": "stream",
     "text": [
      "[LibSVM][LibSVM][LibSVM][LibSVM][LibSVM][LibSVM][LibSVM][LibSVM][LibSVM][LibSVM][LibSVM][LibSVM]"
     ]
    },
    {
     "name": "stderr",
     "output_type": "stream",
     "text": [
      "/home/matheus/anaconda3/lib/python3.7/site-packages/sklearn/utils/validation.py:760: DataConversionWarning: A column-vector y was passed when a 1d array was expected. Please change the shape of y to (n_samples, ), for example using ravel().\n",
      "  y = column_or_1d(y, warn=True)\n",
      "/home/matheus/anaconda3/lib/python3.7/site-packages/sklearn/utils/validation.py:760: DataConversionWarning: A column-vector y was passed when a 1d array was expected. Please change the shape of y to (n_samples, ), for example using ravel().\n",
      "  y = column_or_1d(y, warn=True)\n",
      "/home/matheus/anaconda3/lib/python3.7/site-packages/sklearn/utils/validation.py:760: DataConversionWarning: A column-vector y was passed when a 1d array was expected. Please change the shape of y to (n_samples, ), for example using ravel().\n",
      "  y = column_or_1d(y, warn=True)\n",
      "/home/matheus/anaconda3/lib/python3.7/site-packages/sklearn/utils/validation.py:760: DataConversionWarning: A column-vector y was passed when a 1d array was expected. Please change the shape of y to (n_samples, ), for example using ravel().\n",
      "  y = column_or_1d(y, warn=True)\n",
      "/home/matheus/anaconda3/lib/python3.7/site-packages/sklearn/utils/validation.py:760: DataConversionWarning: A column-vector y was passed when a 1d array was expected. Please change the shape of y to (n_samples, ), for example using ravel().\n",
      "  y = column_or_1d(y, warn=True)\n"
     ]
    },
    {
     "name": "stdout",
     "output_type": "stream",
     "text": [
      "[LibSVM][LibSVM][LibSVM][LibSVM][LibSVM]"
     ]
    },
    {
     "name": "stderr",
     "output_type": "stream",
     "text": [
      "/home/matheus/anaconda3/lib/python3.7/site-packages/sklearn/utils/validation.py:760: DataConversionWarning: A column-vector y was passed when a 1d array was expected. Please change the shape of y to (n_samples, ), for example using ravel().\n",
      "  y = column_or_1d(y, warn=True)\n",
      "/home/matheus/anaconda3/lib/python3.7/site-packages/sklearn/utils/validation.py:760: DataConversionWarning: A column-vector y was passed when a 1d array was expected. Please change the shape of y to (n_samples, ), for example using ravel().\n",
      "  y = column_or_1d(y, warn=True)\n",
      "/home/matheus/anaconda3/lib/python3.7/site-packages/sklearn/utils/validation.py:760: DataConversionWarning: A column-vector y was passed when a 1d array was expected. Please change the shape of y to (n_samples, ), for example using ravel().\n",
      "  y = column_or_1d(y, warn=True)\n"
     ]
    },
    {
     "name": "stdout",
     "output_type": "stream",
     "text": [
      "[LibSVM][LibSVM][LibSVM]"
     ]
    },
    {
     "name": "stderr",
     "output_type": "stream",
     "text": [
      "/home/matheus/anaconda3/lib/python3.7/site-packages/sklearn/utils/validation.py:760: DataConversionWarning: A column-vector y was passed when a 1d array was expected. Please change the shape of y to (n_samples, ), for example using ravel().\n",
      "  y = column_or_1d(y, warn=True)\n",
      "/home/matheus/anaconda3/lib/python3.7/site-packages/sklearn/utils/validation.py:760: DataConversionWarning: A column-vector y was passed when a 1d array was expected. Please change the shape of y to (n_samples, ), for example using ravel().\n",
      "  y = column_or_1d(y, warn=True)\n"
     ]
    },
    {
     "name": "stdout",
     "output_type": "stream",
     "text": [
      "[LibSVM][LibSVM]"
     ]
    },
    {
     "name": "stderr",
     "output_type": "stream",
     "text": [
      "/home/matheus/anaconda3/lib/python3.7/site-packages/sklearn/utils/validation.py:760: DataConversionWarning: A column-vector y was passed when a 1d array was expected. Please change the shape of y to (n_samples, ), for example using ravel().\n",
      "  y = column_or_1d(y, warn=True)\n",
      "/home/matheus/anaconda3/lib/python3.7/site-packages/sklearn/utils/validation.py:760: DataConversionWarning: A column-vector y was passed when a 1d array was expected. Please change the shape of y to (n_samples, ), for example using ravel().\n",
      "  y = column_or_1d(y, warn=True)\n"
     ]
    },
    {
     "name": "stdout",
     "output_type": "stream",
     "text": [
      "[LibSVM][LibSVM]"
     ]
    },
    {
     "name": "stderr",
     "output_type": "stream",
     "text": [
      "/home/matheus/anaconda3/lib/python3.7/site-packages/sklearn/utils/validation.py:760: DataConversionWarning: A column-vector y was passed when a 1d array was expected. Please change the shape of y to (n_samples, ), for example using ravel().\n",
      "  y = column_or_1d(y, warn=True)\n",
      "/home/matheus/anaconda3/lib/python3.7/site-packages/sklearn/utils/validation.py:760: DataConversionWarning: A column-vector y was passed when a 1d array was expected. Please change the shape of y to (n_samples, ), for example using ravel().\n",
      "  y = column_or_1d(y, warn=True)\n"
     ]
    },
    {
     "name": "stdout",
     "output_type": "stream",
     "text": [
      "[LibSVM][LibSVM]"
     ]
    },
    {
     "name": "stderr",
     "output_type": "stream",
     "text": [
      "/home/matheus/anaconda3/lib/python3.7/site-packages/sklearn/utils/validation.py:760: DataConversionWarning: A column-vector y was passed when a 1d array was expected. Please change the shape of y to (n_samples, ), for example using ravel().\n",
      "  y = column_or_1d(y, warn=True)\n",
      "/home/matheus/anaconda3/lib/python3.7/site-packages/sklearn/utils/validation.py:760: DataConversionWarning: A column-vector y was passed when a 1d array was expected. Please change the shape of y to (n_samples, ), for example using ravel().\n",
      "  y = column_or_1d(y, warn=True)\n"
     ]
    },
    {
     "name": "stdout",
     "output_type": "stream",
     "text": [
      "[LibSVM][LibSVM]"
     ]
    },
    {
     "name": "stderr",
     "output_type": "stream",
     "text": [
      "/home/matheus/anaconda3/lib/python3.7/site-packages/sklearn/utils/validation.py:760: DataConversionWarning: A column-vector y was passed when a 1d array was expected. Please change the shape of y to (n_samples, ), for example using ravel().\n",
      "  y = column_or_1d(y, warn=True)\n",
      "/home/matheus/anaconda3/lib/python3.7/site-packages/sklearn/utils/validation.py:760: DataConversionWarning: A column-vector y was passed when a 1d array was expected. Please change the shape of y to (n_samples, ), for example using ravel().\n",
      "  y = column_or_1d(y, warn=True)\n"
     ]
    },
    {
     "name": "stdout",
     "output_type": "stream",
     "text": [
      "[LibSVM][LibSVM]"
     ]
    },
    {
     "name": "stderr",
     "output_type": "stream",
     "text": [
      "/home/matheus/anaconda3/lib/python3.7/site-packages/sklearn/utils/validation.py:760: DataConversionWarning: A column-vector y was passed when a 1d array was expected. Please change the shape of y to (n_samples, ), for example using ravel().\n",
      "  y = column_or_1d(y, warn=True)\n",
      "/home/matheus/anaconda3/lib/python3.7/site-packages/sklearn/utils/validation.py:760: DataConversionWarning: A column-vector y was passed when a 1d array was expected. Please change the shape of y to (n_samples, ), for example using ravel().\n",
      "  y = column_or_1d(y, warn=True)\n"
     ]
    },
    {
     "name": "stdout",
     "output_type": "stream",
     "text": [
      "[LibSVM][LibSVM]"
     ]
    },
    {
     "name": "stderr",
     "output_type": "stream",
     "text": [
      "/home/matheus/anaconda3/lib/python3.7/site-packages/sklearn/utils/validation.py:760: DataConversionWarning: A column-vector y was passed when a 1d array was expected. Please change the shape of y to (n_samples, ), for example using ravel().\n",
      "  y = column_or_1d(y, warn=True)\n",
      "/home/matheus/anaconda3/lib/python3.7/site-packages/sklearn/utils/validation.py:760: DataConversionWarning: A column-vector y was passed when a 1d array was expected. Please change the shape of y to (n_samples, ), for example using ravel().\n",
      "  y = column_or_1d(y, warn=True)\n"
     ]
    },
    {
     "name": "stdout",
     "output_type": "stream",
     "text": [
      "[LibSVM][LibSVM]"
     ]
    },
    {
     "name": "stderr",
     "output_type": "stream",
     "text": [
      "/home/matheus/anaconda3/lib/python3.7/site-packages/sklearn/utils/validation.py:760: DataConversionWarning: A column-vector y was passed when a 1d array was expected. Please change the shape of y to (n_samples, ), for example using ravel().\n",
      "  y = column_or_1d(y, warn=True)\n",
      "/home/matheus/anaconda3/lib/python3.7/site-packages/sklearn/utils/validation.py:760: DataConversionWarning: A column-vector y was passed when a 1d array was expected. Please change the shape of y to (n_samples, ), for example using ravel().\n",
      "  y = column_or_1d(y, warn=True)\n"
     ]
    },
    {
     "name": "stdout",
     "output_type": "stream",
     "text": [
      "[LibSVM][LibSVM]"
     ]
    },
    {
     "name": "stderr",
     "output_type": "stream",
     "text": [
      "/home/matheus/anaconda3/lib/python3.7/site-packages/sklearn/utils/validation.py:760: DataConversionWarning: A column-vector y was passed when a 1d array was expected. Please change the shape of y to (n_samples, ), for example using ravel().\n",
      "  y = column_or_1d(y, warn=True)\n"
     ]
    },
    {
     "name": "stdout",
     "output_type": "stream",
     "text": [
      "[LibSVM]"
     ]
    },
    {
     "name": "stderr",
     "output_type": "stream",
     "text": [
      "/home/matheus/anaconda3/lib/python3.7/site-packages/sklearn/utils/validation.py:760: DataConversionWarning: A column-vector y was passed when a 1d array was expected. Please change the shape of y to (n_samples, ), for example using ravel().\n",
      "  y = column_or_1d(y, warn=True)\n"
     ]
    },
    {
     "name": "stdout",
     "output_type": "stream",
     "text": [
      "[LibSVM]"
     ]
    },
    {
     "name": "stderr",
     "output_type": "stream",
     "text": [
      "/home/matheus/anaconda3/lib/python3.7/site-packages/sklearn/utils/validation.py:760: DataConversionWarning: A column-vector y was passed when a 1d array was expected. Please change the shape of y to (n_samples, ), for example using ravel().\n",
      "  y = column_or_1d(y, warn=True)\n"
     ]
    },
    {
     "name": "stdout",
     "output_type": "stream",
     "text": [
      "[LibSVM]"
     ]
    },
    {
     "name": "stderr",
     "output_type": "stream",
     "text": [
      "/home/matheus/anaconda3/lib/python3.7/site-packages/sklearn/utils/validation.py:760: DataConversionWarning: A column-vector y was passed when a 1d array was expected. Please change the shape of y to (n_samples, ), for example using ravel().\n",
      "  y = column_or_1d(y, warn=True)\n"
     ]
    },
    {
     "name": "stdout",
     "output_type": "stream",
     "text": [
      "[LibSVM]"
     ]
    },
    {
     "name": "stderr",
     "output_type": "stream",
     "text": [
      "/home/matheus/anaconda3/lib/python3.7/site-packages/sklearn/utils/validation.py:760: DataConversionWarning: A column-vector y was passed when a 1d array was expected. Please change the shape of y to (n_samples, ), for example using ravel().\n",
      "  y = column_or_1d(y, warn=True)\n"
     ]
    },
    {
     "name": "stdout",
     "output_type": "stream",
     "text": [
      "[LibSVM]"
     ]
    },
    {
     "name": "stderr",
     "output_type": "stream",
     "text": [
      "/home/matheus/anaconda3/lib/python3.7/site-packages/sklearn/utils/validation.py:760: DataConversionWarning: A column-vector y was passed when a 1d array was expected. Please change the shape of y to (n_samples, ), for example using ravel().\n",
      "  y = column_or_1d(y, warn=True)\n"
     ]
    },
    {
     "name": "stdout",
     "output_type": "stream",
     "text": [
      "[LibSVM]"
     ]
    },
    {
     "name": "stderr",
     "output_type": "stream",
     "text": [
      "/home/matheus/anaconda3/lib/python3.7/site-packages/sklearn/utils/validation.py:760: DataConversionWarning: A column-vector y was passed when a 1d array was expected. Please change the shape of y to (n_samples, ), for example using ravel().\n",
      "  y = column_or_1d(y, warn=True)\n"
     ]
    },
    {
     "name": "stdout",
     "output_type": "stream",
     "text": [
      "[LibSVM]"
     ]
    },
    {
     "name": "stderr",
     "output_type": "stream",
     "text": [
      "/home/matheus/anaconda3/lib/python3.7/site-packages/sklearn/utils/validation.py:760: DataConversionWarning: A column-vector y was passed when a 1d array was expected. Please change the shape of y to (n_samples, ), for example using ravel().\n",
      "  y = column_or_1d(y, warn=True)\n"
     ]
    },
    {
     "name": "stdout",
     "output_type": "stream",
     "text": [
      "[LibSVM]"
     ]
    },
    {
     "name": "stderr",
     "output_type": "stream",
     "text": [
      "/home/matheus/anaconda3/lib/python3.7/site-packages/sklearn/utils/validation.py:760: DataConversionWarning: A column-vector y was passed when a 1d array was expected. Please change the shape of y to (n_samples, ), for example using ravel().\n",
      "  y = column_or_1d(y, warn=True)\n"
     ]
    },
    {
     "name": "stdout",
     "output_type": "stream",
     "text": [
      "[LibSVM]"
     ]
    },
    {
     "name": "stderr",
     "output_type": "stream",
     "text": [
      "/home/matheus/anaconda3/lib/python3.7/site-packages/sklearn/utils/validation.py:760: DataConversionWarning: A column-vector y was passed when a 1d array was expected. Please change the shape of y to (n_samples, ), for example using ravel().\n",
      "  y = column_or_1d(y, warn=True)\n"
     ]
    },
    {
     "name": "stdout",
     "output_type": "stream",
     "text": [
      "[LibSVM]"
     ]
    },
    {
     "name": "stderr",
     "output_type": "stream",
     "text": [
      "/home/matheus/anaconda3/lib/python3.7/site-packages/sklearn/utils/validation.py:760: DataConversionWarning: A column-vector y was passed when a 1d array was expected. Please change the shape of y to (n_samples, ), for example using ravel().\n",
      "  y = column_or_1d(y, warn=True)\n"
     ]
    },
    {
     "name": "stdout",
     "output_type": "stream",
     "text": [
      "[LibSVM]"
     ]
    },
    {
     "name": "stderr",
     "output_type": "stream",
     "text": [
      "/home/matheus/anaconda3/lib/python3.7/site-packages/sklearn/utils/validation.py:760: DataConversionWarning: A column-vector y was passed when a 1d array was expected. Please change the shape of y to (n_samples, ), for example using ravel().\n",
      "  y = column_or_1d(y, warn=True)\n"
     ]
    },
    {
     "name": "stdout",
     "output_type": "stream",
     "text": [
      "[LibSVM]"
     ]
    },
    {
     "name": "stderr",
     "output_type": "stream",
     "text": [
      "/home/matheus/anaconda3/lib/python3.7/site-packages/sklearn/utils/validation.py:760: DataConversionWarning: A column-vector y was passed when a 1d array was expected. Please change the shape of y to (n_samples, ), for example using ravel().\n",
      "  y = column_or_1d(y, warn=True)\n"
     ]
    },
    {
     "name": "stdout",
     "output_type": "stream",
     "text": [
      "[LibSVM]"
     ]
    },
    {
     "name": "stderr",
     "output_type": "stream",
     "text": [
      "/home/matheus/anaconda3/lib/python3.7/site-packages/sklearn/utils/validation.py:760: DataConversionWarning: A column-vector y was passed when a 1d array was expected. Please change the shape of y to (n_samples, ), for example using ravel().\n",
      "  y = column_or_1d(y, warn=True)\n"
     ]
    },
    {
     "name": "stdout",
     "output_type": "stream",
     "text": [
      "[LibSVM]"
     ]
    },
    {
     "name": "stderr",
     "output_type": "stream",
     "text": [
      "/home/matheus/anaconda3/lib/python3.7/site-packages/sklearn/utils/validation.py:760: DataConversionWarning: A column-vector y was passed when a 1d array was expected. Please change the shape of y to (n_samples, ), for example using ravel().\n",
      "  y = column_or_1d(y, warn=True)\n"
     ]
    },
    {
     "name": "stdout",
     "output_type": "stream",
     "text": [
      "[LibSVM]"
     ]
    },
    {
     "name": "stderr",
     "output_type": "stream",
     "text": [
      "/home/matheus/anaconda3/lib/python3.7/site-packages/sklearn/utils/validation.py:760: DataConversionWarning: A column-vector y was passed when a 1d array was expected. Please change the shape of y to (n_samples, ), for example using ravel().\n",
      "  y = column_or_1d(y, warn=True)\n"
     ]
    },
    {
     "name": "stdout",
     "output_type": "stream",
     "text": [
      "[LibSVM]"
     ]
    },
    {
     "name": "stderr",
     "output_type": "stream",
     "text": [
      "/home/matheus/anaconda3/lib/python3.7/site-packages/sklearn/utils/validation.py:760: DataConversionWarning: A column-vector y was passed when a 1d array was expected. Please change the shape of y to (n_samples, ), for example using ravel().\n",
      "  y = column_or_1d(y, warn=True)\n"
     ]
    },
    {
     "name": "stdout",
     "output_type": "stream",
     "text": [
      "[LibSVM]"
     ]
    },
    {
     "name": "stderr",
     "output_type": "stream",
     "text": [
      "/home/matheus/anaconda3/lib/python3.7/site-packages/sklearn/utils/validation.py:760: DataConversionWarning: A column-vector y was passed when a 1d array was expected. Please change the shape of y to (n_samples, ), for example using ravel().\n",
      "  y = column_or_1d(y, warn=True)\n"
     ]
    },
    {
     "name": "stdout",
     "output_type": "stream",
     "text": [
      "[LibSVM]"
     ]
    },
    {
     "name": "stderr",
     "output_type": "stream",
     "text": [
      "/home/matheus/anaconda3/lib/python3.7/site-packages/sklearn/utils/validation.py:760: DataConversionWarning: A column-vector y was passed when a 1d array was expected. Please change the shape of y to (n_samples, ), for example using ravel().\n",
      "  y = column_or_1d(y, warn=True)\n"
     ]
    },
    {
     "name": "stdout",
     "output_type": "stream",
     "text": [
      "[LibSVM]"
     ]
    },
    {
     "name": "stderr",
     "output_type": "stream",
     "text": [
      "/home/matheus/anaconda3/lib/python3.7/site-packages/sklearn/utils/validation.py:760: DataConversionWarning: A column-vector y was passed when a 1d array was expected. Please change the shape of y to (n_samples, ), for example using ravel().\n",
      "  y = column_or_1d(y, warn=True)\n"
     ]
    },
    {
     "name": "stdout",
     "output_type": "stream",
     "text": [
      "[LibSVM]"
     ]
    },
    {
     "name": "stderr",
     "output_type": "stream",
     "text": [
      "/home/matheus/anaconda3/lib/python3.7/site-packages/sklearn/utils/validation.py:760: DataConversionWarning: A column-vector y was passed when a 1d array was expected. Please change the shape of y to (n_samples, ), for example using ravel().\n",
      "  y = column_or_1d(y, warn=True)\n"
     ]
    },
    {
     "name": "stdout",
     "output_type": "stream",
     "text": [
      "[LibSVM]"
     ]
    },
    {
     "name": "stderr",
     "output_type": "stream",
     "text": [
      "/home/matheus/anaconda3/lib/python3.7/site-packages/sklearn/utils/validation.py:760: DataConversionWarning: A column-vector y was passed when a 1d array was expected. Please change the shape of y to (n_samples, ), for example using ravel().\n",
      "  y = column_or_1d(y, warn=True)\n"
     ]
    },
    {
     "name": "stdout",
     "output_type": "stream",
     "text": [
      "[LibSVM]"
     ]
    },
    {
     "name": "stderr",
     "output_type": "stream",
     "text": [
      "/home/matheus/anaconda3/lib/python3.7/site-packages/sklearn/utils/validation.py:760: DataConversionWarning: A column-vector y was passed when a 1d array was expected. Please change the shape of y to (n_samples, ), for example using ravel().\n",
      "  y = column_or_1d(y, warn=True)\n"
     ]
    },
    {
     "name": "stdout",
     "output_type": "stream",
     "text": [
      "[LibSVM]"
     ]
    },
    {
     "name": "stderr",
     "output_type": "stream",
     "text": [
      "/home/matheus/anaconda3/lib/python3.7/site-packages/sklearn/utils/validation.py:760: DataConversionWarning: A column-vector y was passed when a 1d array was expected. Please change the shape of y to (n_samples, ), for example using ravel().\n",
      "  y = column_or_1d(y, warn=True)\n"
     ]
    },
    {
     "name": "stdout",
     "output_type": "stream",
     "text": [
      "[LibSVM]"
     ]
    },
    {
     "name": "stderr",
     "output_type": "stream",
     "text": [
      "/home/matheus/anaconda3/lib/python3.7/site-packages/sklearn/utils/validation.py:760: DataConversionWarning: A column-vector y was passed when a 1d array was expected. Please change the shape of y to (n_samples, ), for example using ravel().\n",
      "  y = column_or_1d(y, warn=True)\n"
     ]
    },
    {
     "name": "stdout",
     "output_type": "stream",
     "text": [
      "[LibSVM]"
     ]
    },
    {
     "name": "stderr",
     "output_type": "stream",
     "text": [
      "/home/matheus/anaconda3/lib/python3.7/site-packages/sklearn/utils/validation.py:760: DataConversionWarning: A column-vector y was passed when a 1d array was expected. Please change the shape of y to (n_samples, ), for example using ravel().\n",
      "  y = column_or_1d(y, warn=True)\n"
     ]
    },
    {
     "name": "stdout",
     "output_type": "stream",
     "text": [
      "[LibSVM]"
     ]
    },
    {
     "name": "stderr",
     "output_type": "stream",
     "text": [
      "/home/matheus/anaconda3/lib/python3.7/site-packages/sklearn/utils/validation.py:760: DataConversionWarning: A column-vector y was passed when a 1d array was expected. Please change the shape of y to (n_samples, ), for example using ravel().\n",
      "  y = column_or_1d(y, warn=True)\n"
     ]
    },
    {
     "name": "stdout",
     "output_type": "stream",
     "text": [
      "[LibSVM]"
     ]
    },
    {
     "name": "stderr",
     "output_type": "stream",
     "text": [
      "/home/matheus/anaconda3/lib/python3.7/site-packages/sklearn/utils/validation.py:760: DataConversionWarning: A column-vector y was passed when a 1d array was expected. Please change the shape of y to (n_samples, ), for example using ravel().\n",
      "  y = column_or_1d(y, warn=True)\n"
     ]
    },
    {
     "name": "stdout",
     "output_type": "stream",
     "text": [
      "[LibSVM]"
     ]
    },
    {
     "name": "stderr",
     "output_type": "stream",
     "text": [
      "/home/matheus/anaconda3/lib/python3.7/site-packages/sklearn/utils/validation.py:760: DataConversionWarning: A column-vector y was passed when a 1d array was expected. Please change the shape of y to (n_samples, ), for example using ravel().\n",
      "  y = column_or_1d(y, warn=True)\n"
     ]
    },
    {
     "name": "stdout",
     "output_type": "stream",
     "text": [
      "[LibSVM]"
     ]
    },
    {
     "name": "stderr",
     "output_type": "stream",
     "text": [
      "/home/matheus/anaconda3/lib/python3.7/site-packages/sklearn/utils/validation.py:760: DataConversionWarning: A column-vector y was passed when a 1d array was expected. Please change the shape of y to (n_samples, ), for example using ravel().\n",
      "  y = column_or_1d(y, warn=True)\n"
     ]
    },
    {
     "name": "stdout",
     "output_type": "stream",
     "text": [
      "[LibSVM]"
     ]
    },
    {
     "name": "stderr",
     "output_type": "stream",
     "text": [
      "/home/matheus/anaconda3/lib/python3.7/site-packages/sklearn/utils/validation.py:760: DataConversionWarning: A column-vector y was passed when a 1d array was expected. Please change the shape of y to (n_samples, ), for example using ravel().\n",
      "  y = column_or_1d(y, warn=True)\n"
     ]
    },
    {
     "name": "stdout",
     "output_type": "stream",
     "text": [
      "[LibSVM]"
     ]
    },
    {
     "name": "stderr",
     "output_type": "stream",
     "text": [
      "/home/matheus/anaconda3/lib/python3.7/site-packages/sklearn/utils/validation.py:760: DataConversionWarning: A column-vector y was passed when a 1d array was expected. Please change the shape of y to (n_samples, ), for example using ravel().\n",
      "  y = column_or_1d(y, warn=True)\n"
     ]
    },
    {
     "name": "stdout",
     "output_type": "stream",
     "text": [
      "[LibSVM]"
     ]
    },
    {
     "name": "stderr",
     "output_type": "stream",
     "text": [
      "/home/matheus/anaconda3/lib/python3.7/site-packages/sklearn/utils/validation.py:760: DataConversionWarning: A column-vector y was passed when a 1d array was expected. Please change the shape of y to (n_samples, ), for example using ravel().\n",
      "  y = column_or_1d(y, warn=True)\n"
     ]
    },
    {
     "name": "stdout",
     "output_type": "stream",
     "text": [
      "[LibSVM]"
     ]
    },
    {
     "name": "stderr",
     "output_type": "stream",
     "text": [
      "/home/matheus/anaconda3/lib/python3.7/site-packages/sklearn/utils/validation.py:760: DataConversionWarning: A column-vector y was passed when a 1d array was expected. Please change the shape of y to (n_samples, ), for example using ravel().\n",
      "  y = column_or_1d(y, warn=True)\n"
     ]
    },
    {
     "name": "stdout",
     "output_type": "stream",
     "text": [
      "[LibSVM]"
     ]
    },
    {
     "name": "stderr",
     "output_type": "stream",
     "text": [
      "/home/matheus/anaconda3/lib/python3.7/site-packages/sklearn/utils/validation.py:760: DataConversionWarning: A column-vector y was passed when a 1d array was expected. Please change the shape of y to (n_samples, ), for example using ravel().\n",
      "  y = column_or_1d(y, warn=True)\n"
     ]
    },
    {
     "name": "stdout",
     "output_type": "stream",
     "text": [
      "[LibSVM]"
     ]
    },
    {
     "name": "stderr",
     "output_type": "stream",
     "text": [
      "/home/matheus/anaconda3/lib/python3.7/site-packages/sklearn/utils/validation.py:760: DataConversionWarning: A column-vector y was passed when a 1d array was expected. Please change the shape of y to (n_samples, ), for example using ravel().\n",
      "  y = column_or_1d(y, warn=True)\n"
     ]
    },
    {
     "name": "stdout",
     "output_type": "stream",
     "text": [
      "[LibSVM]"
     ]
    },
    {
     "name": "stderr",
     "output_type": "stream",
     "text": [
      "/home/matheus/anaconda3/lib/python3.7/site-packages/sklearn/utils/validation.py:760: DataConversionWarning: A column-vector y was passed when a 1d array was expected. Please change the shape of y to (n_samples, ), for example using ravel().\n",
      "  y = column_or_1d(y, warn=True)\n"
     ]
    },
    {
     "name": "stdout",
     "output_type": "stream",
     "text": [
      "[LibSVM]"
     ]
    },
    {
     "name": "stderr",
     "output_type": "stream",
     "text": [
      "/home/matheus/anaconda3/lib/python3.7/site-packages/sklearn/utils/validation.py:760: DataConversionWarning: A column-vector y was passed when a 1d array was expected. Please change the shape of y to (n_samples, ), for example using ravel().\n",
      "  y = column_or_1d(y, warn=True)\n"
     ]
    },
    {
     "name": "stdout",
     "output_type": "stream",
     "text": [
      "[LibSVM]"
     ]
    },
    {
     "name": "stderr",
     "output_type": "stream",
     "text": [
      "/home/matheus/anaconda3/lib/python3.7/site-packages/sklearn/utils/validation.py:760: DataConversionWarning: A column-vector y was passed when a 1d array was expected. Please change the shape of y to (n_samples, ), for example using ravel().\n",
      "  y = column_or_1d(y, warn=True)\n"
     ]
    },
    {
     "name": "stdout",
     "output_type": "stream",
     "text": [
      "[LibSVM]"
     ]
    },
    {
     "name": "stderr",
     "output_type": "stream",
     "text": [
      "/home/matheus/anaconda3/lib/python3.7/site-packages/sklearn/utils/validation.py:760: DataConversionWarning: A column-vector y was passed when a 1d array was expected. Please change the shape of y to (n_samples, ), for example using ravel().\n",
      "  y = column_or_1d(y, warn=True)\n"
     ]
    },
    {
     "name": "stdout",
     "output_type": "stream",
     "text": [
      "[LibSVM]"
     ]
    },
    {
     "name": "stderr",
     "output_type": "stream",
     "text": [
      "/home/matheus/anaconda3/lib/python3.7/site-packages/sklearn/utils/validation.py:760: DataConversionWarning: A column-vector y was passed when a 1d array was expected. Please change the shape of y to (n_samples, ), for example using ravel().\n",
      "  y = column_or_1d(y, warn=True)\n"
     ]
    },
    {
     "name": "stdout",
     "output_type": "stream",
     "text": [
      "[LibSVM]"
     ]
    },
    {
     "name": "stderr",
     "output_type": "stream",
     "text": [
      "/home/matheus/anaconda3/lib/python3.7/site-packages/sklearn/utils/validation.py:760: DataConversionWarning: A column-vector y was passed when a 1d array was expected. Please change the shape of y to (n_samples, ), for example using ravel().\n",
      "  y = column_or_1d(y, warn=True)\n"
     ]
    },
    {
     "name": "stdout",
     "output_type": "stream",
     "text": [
      "[LibSVM]"
     ]
    },
    {
     "name": "stderr",
     "output_type": "stream",
     "text": [
      "/home/matheus/anaconda3/lib/python3.7/site-packages/sklearn/utils/validation.py:760: DataConversionWarning: A column-vector y was passed when a 1d array was expected. Please change the shape of y to (n_samples, ), for example using ravel().\n",
      "  y = column_or_1d(y, warn=True)\n"
     ]
    },
    {
     "name": "stdout",
     "output_type": "stream",
     "text": [
      "[LibSVM]"
     ]
    },
    {
     "name": "stderr",
     "output_type": "stream",
     "text": [
      "/home/matheus/anaconda3/lib/python3.7/site-packages/sklearn/utils/validation.py:760: DataConversionWarning: A column-vector y was passed when a 1d array was expected. Please change the shape of y to (n_samples, ), for example using ravel().\n",
      "  y = column_or_1d(y, warn=True)\n"
     ]
    },
    {
     "name": "stdout",
     "output_type": "stream",
     "text": [
      "[LibSVM]"
     ]
    },
    {
     "name": "stderr",
     "output_type": "stream",
     "text": [
      "/home/matheus/anaconda3/lib/python3.7/site-packages/sklearn/utils/validation.py:760: DataConversionWarning: A column-vector y was passed when a 1d array was expected. Please change the shape of y to (n_samples, ), for example using ravel().\n",
      "  y = column_or_1d(y, warn=True)\n"
     ]
    },
    {
     "name": "stdout",
     "output_type": "stream",
     "text": [
      "[LibSVM]"
     ]
    },
    {
     "name": "stderr",
     "output_type": "stream",
     "text": [
      "/home/matheus/anaconda3/lib/python3.7/site-packages/sklearn/utils/validation.py:760: DataConversionWarning: A column-vector y was passed when a 1d array was expected. Please change the shape of y to (n_samples, ), for example using ravel().\n",
      "  y = column_or_1d(y, warn=True)\n"
     ]
    },
    {
     "name": "stdout",
     "output_type": "stream",
     "text": [
      "[LibSVM]"
     ]
    },
    {
     "name": "stderr",
     "output_type": "stream",
     "text": [
      "/home/matheus/anaconda3/lib/python3.7/site-packages/sklearn/utils/validation.py:760: DataConversionWarning: A column-vector y was passed when a 1d array was expected. Please change the shape of y to (n_samples, ), for example using ravel().\n",
      "  y = column_or_1d(y, warn=True)\n"
     ]
    },
    {
     "name": "stdout",
     "output_type": "stream",
     "text": [
      "[LibSVM]"
     ]
    },
    {
     "name": "stderr",
     "output_type": "stream",
     "text": [
      "/home/matheus/anaconda3/lib/python3.7/site-packages/sklearn/utils/validation.py:760: DataConversionWarning: A column-vector y was passed when a 1d array was expected. Please change the shape of y to (n_samples, ), for example using ravel().\n",
      "  y = column_or_1d(y, warn=True)\n"
     ]
    },
    {
     "name": "stdout",
     "output_type": "stream",
     "text": [
      "[LibSVM]"
     ]
    },
    {
     "name": "stderr",
     "output_type": "stream",
     "text": [
      "/home/matheus/anaconda3/lib/python3.7/site-packages/sklearn/utils/validation.py:760: DataConversionWarning: A column-vector y was passed when a 1d array was expected. Please change the shape of y to (n_samples, ), for example using ravel().\n",
      "  y = column_or_1d(y, warn=True)\n"
     ]
    },
    {
     "name": "stdout",
     "output_type": "stream",
     "text": [
      "[LibSVM]"
     ]
    },
    {
     "name": "stderr",
     "output_type": "stream",
     "text": [
      "/home/matheus/anaconda3/lib/python3.7/site-packages/sklearn/utils/validation.py:760: DataConversionWarning: A column-vector y was passed when a 1d array was expected. Please change the shape of y to (n_samples, ), for example using ravel().\n",
      "  y = column_or_1d(y, warn=True)\n"
     ]
    },
    {
     "name": "stdout",
     "output_type": "stream",
     "text": [
      "[LibSVM]"
     ]
    },
    {
     "name": "stderr",
     "output_type": "stream",
     "text": [
      "/home/matheus/anaconda3/lib/python3.7/site-packages/sklearn/utils/validation.py:760: DataConversionWarning: A column-vector y was passed when a 1d array was expected. Please change the shape of y to (n_samples, ), for example using ravel().\n",
      "  y = column_or_1d(y, warn=True)\n"
     ]
    },
    {
     "name": "stdout",
     "output_type": "stream",
     "text": [
      "[LibSVM]"
     ]
    },
    {
     "name": "stderr",
     "output_type": "stream",
     "text": [
      "/home/matheus/anaconda3/lib/python3.7/site-packages/sklearn/utils/validation.py:760: DataConversionWarning: A column-vector y was passed when a 1d array was expected. Please change the shape of y to (n_samples, ), for example using ravel().\n",
      "  y = column_or_1d(y, warn=True)\n"
     ]
    },
    {
     "name": "stdout",
     "output_type": "stream",
     "text": [
      "[LibSVM]"
     ]
    },
    {
     "name": "stderr",
     "output_type": "stream",
     "text": [
      "/home/matheus/anaconda3/lib/python3.7/site-packages/sklearn/utils/validation.py:760: DataConversionWarning: A column-vector y was passed when a 1d array was expected. Please change the shape of y to (n_samples, ), for example using ravel().\n",
      "  y = column_or_1d(y, warn=True)\n"
     ]
    },
    {
     "name": "stdout",
     "output_type": "stream",
     "text": [
      "[LibSVM]"
     ]
    },
    {
     "name": "stderr",
     "output_type": "stream",
     "text": [
      "/home/matheus/anaconda3/lib/python3.7/site-packages/sklearn/utils/validation.py:760: DataConversionWarning: A column-vector y was passed when a 1d array was expected. Please change the shape of y to (n_samples, ), for example using ravel().\n",
      "  y = column_or_1d(y, warn=True)\n"
     ]
    },
    {
     "name": "stdout",
     "output_type": "stream",
     "text": [
      "[LibSVM]"
     ]
    },
    {
     "name": "stderr",
     "output_type": "stream",
     "text": [
      "/home/matheus/anaconda3/lib/python3.7/site-packages/sklearn/utils/validation.py:760: DataConversionWarning: A column-vector y was passed when a 1d array was expected. Please change the shape of y to (n_samples, ), for example using ravel().\n",
      "  y = column_or_1d(y, warn=True)\n"
     ]
    },
    {
     "name": "stdout",
     "output_type": "stream",
     "text": [
      "[LibSVM]"
     ]
    },
    {
     "name": "stderr",
     "output_type": "stream",
     "text": [
      "/home/matheus/anaconda3/lib/python3.7/site-packages/sklearn/utils/validation.py:760: DataConversionWarning: A column-vector y was passed when a 1d array was expected. Please change the shape of y to (n_samples, ), for example using ravel().\n",
      "  y = column_or_1d(y, warn=True)\n"
     ]
    },
    {
     "name": "stdout",
     "output_type": "stream",
     "text": [
      "[LibSVM]"
     ]
    },
    {
     "name": "stderr",
     "output_type": "stream",
     "text": [
      "/home/matheus/anaconda3/lib/python3.7/site-packages/sklearn/utils/validation.py:760: DataConversionWarning: A column-vector y was passed when a 1d array was expected. Please change the shape of y to (n_samples, ), for example using ravel().\n",
      "  y = column_or_1d(y, warn=True)\n"
     ]
    },
    {
     "name": "stdout",
     "output_type": "stream",
     "text": [
      "[LibSVM]"
     ]
    },
    {
     "name": "stderr",
     "output_type": "stream",
     "text": [
      "/home/matheus/anaconda3/lib/python3.7/site-packages/sklearn/utils/validation.py:760: DataConversionWarning: A column-vector y was passed when a 1d array was expected. Please change the shape of y to (n_samples, ), for example using ravel().\n",
      "  y = column_or_1d(y, warn=True)\n"
     ]
    },
    {
     "name": "stdout",
     "output_type": "stream",
     "text": [
      "[LibSVM]"
     ]
    },
    {
     "name": "stderr",
     "output_type": "stream",
     "text": [
      "/home/matheus/anaconda3/lib/python3.7/site-packages/sklearn/utils/validation.py:760: DataConversionWarning: A column-vector y was passed when a 1d array was expected. Please change the shape of y to (n_samples, ), for example using ravel().\n",
      "  y = column_or_1d(y, warn=True)\n"
     ]
    },
    {
     "name": "stdout",
     "output_type": "stream",
     "text": [
      "[LibSVM]"
     ]
    },
    {
     "name": "stderr",
     "output_type": "stream",
     "text": [
      "/home/matheus/anaconda3/lib/python3.7/site-packages/sklearn/utils/validation.py:760: DataConversionWarning: A column-vector y was passed when a 1d array was expected. Please change the shape of y to (n_samples, ), for example using ravel().\n",
      "  y = column_or_1d(y, warn=True)\n"
     ]
    },
    {
     "name": "stdout",
     "output_type": "stream",
     "text": [
      "[LibSVM]"
     ]
    },
    {
     "name": "stderr",
     "output_type": "stream",
     "text": [
      "/home/matheus/anaconda3/lib/python3.7/site-packages/sklearn/utils/validation.py:760: DataConversionWarning: A column-vector y was passed when a 1d array was expected. Please change the shape of y to (n_samples, ), for example using ravel().\n",
      "  y = column_or_1d(y, warn=True)\n"
     ]
    },
    {
     "name": "stdout",
     "output_type": "stream",
     "text": [
      "[LibSVM]"
     ]
    },
    {
     "name": "stderr",
     "output_type": "stream",
     "text": [
      "/home/matheus/anaconda3/lib/python3.7/site-packages/sklearn/utils/validation.py:760: DataConversionWarning: A column-vector y was passed when a 1d array was expected. Please change the shape of y to (n_samples, ), for example using ravel().\n",
      "  y = column_or_1d(y, warn=True)\n"
     ]
    },
    {
     "name": "stdout",
     "output_type": "stream",
     "text": [
      "[LibSVM]"
     ]
    },
    {
     "name": "stderr",
     "output_type": "stream",
     "text": [
      "/home/matheus/anaconda3/lib/python3.7/site-packages/sklearn/utils/validation.py:760: DataConversionWarning: A column-vector y was passed when a 1d array was expected. Please change the shape of y to (n_samples, ), for example using ravel().\n",
      "  y = column_or_1d(y, warn=True)\n"
     ]
    },
    {
     "name": "stdout",
     "output_type": "stream",
     "text": [
      "[LibSVM]"
     ]
    },
    {
     "name": "stderr",
     "output_type": "stream",
     "text": [
      "/home/matheus/anaconda3/lib/python3.7/site-packages/sklearn/utils/validation.py:760: DataConversionWarning: A column-vector y was passed when a 1d array was expected. Please change the shape of y to (n_samples, ), for example using ravel().\n",
      "  y = column_or_1d(y, warn=True)\n"
     ]
    },
    {
     "name": "stdout",
     "output_type": "stream",
     "text": [
      "[LibSVM]"
     ]
    },
    {
     "name": "stderr",
     "output_type": "stream",
     "text": [
      "/home/matheus/anaconda3/lib/python3.7/site-packages/sklearn/utils/validation.py:760: DataConversionWarning: A column-vector y was passed when a 1d array was expected. Please change the shape of y to (n_samples, ), for example using ravel().\n",
      "  y = column_or_1d(y, warn=True)\n"
     ]
    },
    {
     "name": "stdout",
     "output_type": "stream",
     "text": [
      "[LibSVM]"
     ]
    },
    {
     "name": "stderr",
     "output_type": "stream",
     "text": [
      "/home/matheus/anaconda3/lib/python3.7/site-packages/sklearn/utils/validation.py:760: DataConversionWarning: A column-vector y was passed when a 1d array was expected. Please change the shape of y to (n_samples, ), for example using ravel().\n",
      "  y = column_or_1d(y, warn=True)\n"
     ]
    },
    {
     "name": "stdout",
     "output_type": "stream",
     "text": [
      "[LibSVM]"
     ]
    },
    {
     "name": "stderr",
     "output_type": "stream",
     "text": [
      "/home/matheus/anaconda3/lib/python3.7/site-packages/sklearn/utils/validation.py:760: DataConversionWarning: A column-vector y was passed when a 1d array was expected. Please change the shape of y to (n_samples, ), for example using ravel().\n",
      "  y = column_or_1d(y, warn=True)\n"
     ]
    },
    {
     "name": "stdout",
     "output_type": "stream",
     "text": [
      "[LibSVM]"
     ]
    },
    {
     "name": "stderr",
     "output_type": "stream",
     "text": [
      "/home/matheus/anaconda3/lib/python3.7/site-packages/sklearn/utils/validation.py:760: DataConversionWarning: A column-vector y was passed when a 1d array was expected. Please change the shape of y to (n_samples, ), for example using ravel().\n",
      "  y = column_or_1d(y, warn=True)\n"
     ]
    },
    {
     "name": "stdout",
     "output_type": "stream",
     "text": [
      "[LibSVM]"
     ]
    },
    {
     "name": "stderr",
     "output_type": "stream",
     "text": [
      "/home/matheus/anaconda3/lib/python3.7/site-packages/sklearn/utils/validation.py:760: DataConversionWarning: A column-vector y was passed when a 1d array was expected. Please change the shape of y to (n_samples, ), for example using ravel().\n",
      "  y = column_or_1d(y, warn=True)\n"
     ]
    },
    {
     "name": "stdout",
     "output_type": "stream",
     "text": [
      "[LibSVM]"
     ]
    },
    {
     "name": "stderr",
     "output_type": "stream",
     "text": [
      "/home/matheus/anaconda3/lib/python3.7/site-packages/sklearn/utils/validation.py:760: DataConversionWarning: A column-vector y was passed when a 1d array was expected. Please change the shape of y to (n_samples, ), for example using ravel().\n",
      "  y = column_or_1d(y, warn=True)\n"
     ]
    },
    {
     "name": "stdout",
     "output_type": "stream",
     "text": [
      "[LibSVM]"
     ]
    },
    {
     "name": "stderr",
     "output_type": "stream",
     "text": [
      "/home/matheus/anaconda3/lib/python3.7/site-packages/sklearn/utils/validation.py:760: DataConversionWarning: A column-vector y was passed when a 1d array was expected. Please change the shape of y to (n_samples, ), for example using ravel().\n",
      "  y = column_or_1d(y, warn=True)\n"
     ]
    },
    {
     "name": "stdout",
     "output_type": "stream",
     "text": [
      "[LibSVM]"
     ]
    },
    {
     "name": "stderr",
     "output_type": "stream",
     "text": [
      "/home/matheus/anaconda3/lib/python3.7/site-packages/sklearn/utils/validation.py:760: DataConversionWarning: A column-vector y was passed when a 1d array was expected. Please change the shape of y to (n_samples, ), for example using ravel().\n",
      "  y = column_or_1d(y, warn=True)\n"
     ]
    },
    {
     "name": "stdout",
     "output_type": "stream",
     "text": [
      "[LibSVM]"
     ]
    },
    {
     "name": "stderr",
     "output_type": "stream",
     "text": [
      "/home/matheus/anaconda3/lib/python3.7/site-packages/sklearn/utils/validation.py:760: DataConversionWarning: A column-vector y was passed when a 1d array was expected. Please change the shape of y to (n_samples, ), for example using ravel().\n",
      "  y = column_or_1d(y, warn=True)\n"
     ]
    },
    {
     "name": "stdout",
     "output_type": "stream",
     "text": [
      "[LibSVM]"
     ]
    },
    {
     "name": "stderr",
     "output_type": "stream",
     "text": [
      "/home/matheus/anaconda3/lib/python3.7/site-packages/sklearn/utils/validation.py:760: DataConversionWarning: A column-vector y was passed when a 1d array was expected. Please change the shape of y to (n_samples, ), for example using ravel().\n",
      "  y = column_or_1d(y, warn=True)\n"
     ]
    },
    {
     "name": "stdout",
     "output_type": "stream",
     "text": [
      "[LibSVM]"
     ]
    },
    {
     "name": "stderr",
     "output_type": "stream",
     "text": [
      "/home/matheus/anaconda3/lib/python3.7/site-packages/sklearn/utils/validation.py:760: DataConversionWarning: A column-vector y was passed when a 1d array was expected. Please change the shape of y to (n_samples, ), for example using ravel().\n",
      "  y = column_or_1d(y, warn=True)\n"
     ]
    },
    {
     "name": "stdout",
     "output_type": "stream",
     "text": [
      "[LibSVM]"
     ]
    },
    {
     "name": "stderr",
     "output_type": "stream",
     "text": [
      "/home/matheus/anaconda3/lib/python3.7/site-packages/sklearn/utils/validation.py:760: DataConversionWarning: A column-vector y was passed when a 1d array was expected. Please change the shape of y to (n_samples, ), for example using ravel().\n",
      "  y = column_or_1d(y, warn=True)\n"
     ]
    },
    {
     "name": "stdout",
     "output_type": "stream",
     "text": [
      "[LibSVM]"
     ]
    },
    {
     "name": "stderr",
     "output_type": "stream",
     "text": [
      "/home/matheus/anaconda3/lib/python3.7/site-packages/sklearn/utils/validation.py:760: DataConversionWarning: A column-vector y was passed when a 1d array was expected. Please change the shape of y to (n_samples, ), for example using ravel().\n",
      "  y = column_or_1d(y, warn=True)\n"
     ]
    },
    {
     "name": "stdout",
     "output_type": "stream",
     "text": [
      "[LibSVM]"
     ]
    },
    {
     "name": "stderr",
     "output_type": "stream",
     "text": [
      "/home/matheus/anaconda3/lib/python3.7/site-packages/sklearn/utils/validation.py:760: DataConversionWarning: A column-vector y was passed when a 1d array was expected. Please change the shape of y to (n_samples, ), for example using ravel().\n",
      "  y = column_or_1d(y, warn=True)\n"
     ]
    },
    {
     "name": "stdout",
     "output_type": "stream",
     "text": [
      "[LibSVM]"
     ]
    },
    {
     "name": "stderr",
     "output_type": "stream",
     "text": [
      "/home/matheus/anaconda3/lib/python3.7/site-packages/sklearn/utils/validation.py:760: DataConversionWarning: A column-vector y was passed when a 1d array was expected. Please change the shape of y to (n_samples, ), for example using ravel().\n",
      "  y = column_or_1d(y, warn=True)\n"
     ]
    },
    {
     "name": "stdout",
     "output_type": "stream",
     "text": [
      "[LibSVM]"
     ]
    },
    {
     "name": "stderr",
     "output_type": "stream",
     "text": [
      "/home/matheus/anaconda3/lib/python3.7/site-packages/sklearn/utils/validation.py:760: DataConversionWarning: A column-vector y was passed when a 1d array was expected. Please change the shape of y to (n_samples, ), for example using ravel().\n",
      "  y = column_or_1d(y, warn=True)\n"
     ]
    },
    {
     "name": "stdout",
     "output_type": "stream",
     "text": [
      "[LibSVM]"
     ]
    },
    {
     "name": "stderr",
     "output_type": "stream",
     "text": [
      "/home/matheus/anaconda3/lib/python3.7/site-packages/sklearn/utils/validation.py:760: DataConversionWarning: A column-vector y was passed when a 1d array was expected. Please change the shape of y to (n_samples, ), for example using ravel().\n",
      "  y = column_or_1d(y, warn=True)\n"
     ]
    },
    {
     "name": "stdout",
     "output_type": "stream",
     "text": [
      "[LibSVM]"
     ]
    },
    {
     "name": "stderr",
     "output_type": "stream",
     "text": [
      "/home/matheus/anaconda3/lib/python3.7/site-packages/sklearn/utils/validation.py:760: DataConversionWarning: A column-vector y was passed when a 1d array was expected. Please change the shape of y to (n_samples, ), for example using ravel().\n",
      "  y = column_or_1d(y, warn=True)\n"
     ]
    },
    {
     "name": "stdout",
     "output_type": "stream",
     "text": [
      "[LibSVM]"
     ]
    },
    {
     "name": "stderr",
     "output_type": "stream",
     "text": [
      "/home/matheus/anaconda3/lib/python3.7/site-packages/sklearn/utils/validation.py:760: DataConversionWarning: A column-vector y was passed when a 1d array was expected. Please change the shape of y to (n_samples, ), for example using ravel().\n",
      "  y = column_or_1d(y, warn=True)\n"
     ]
    },
    {
     "name": "stdout",
     "output_type": "stream",
     "text": [
      "[LibSVM]"
     ]
    },
    {
     "name": "stderr",
     "output_type": "stream",
     "text": [
      "/home/matheus/anaconda3/lib/python3.7/site-packages/sklearn/utils/validation.py:760: DataConversionWarning: A column-vector y was passed when a 1d array was expected. Please change the shape of y to (n_samples, ), for example using ravel().\n",
      "  y = column_or_1d(y, warn=True)\n"
     ]
    },
    {
     "name": "stdout",
     "output_type": "stream",
     "text": [
      "[LibSVM]"
     ]
    },
    {
     "name": "stderr",
     "output_type": "stream",
     "text": [
      "/home/matheus/anaconda3/lib/python3.7/site-packages/sklearn/utils/validation.py:760: DataConversionWarning: A column-vector y was passed when a 1d array was expected. Please change the shape of y to (n_samples, ), for example using ravel().\n",
      "  y = column_or_1d(y, warn=True)\n"
     ]
    },
    {
     "name": "stdout",
     "output_type": "stream",
     "text": [
      "[LibSVM]"
     ]
    },
    {
     "name": "stderr",
     "output_type": "stream",
     "text": [
      "/home/matheus/anaconda3/lib/python3.7/site-packages/sklearn/utils/validation.py:760: DataConversionWarning: A column-vector y was passed when a 1d array was expected. Please change the shape of y to (n_samples, ), for example using ravel().\n",
      "  y = column_or_1d(y, warn=True)\n"
     ]
    },
    {
     "name": "stdout",
     "output_type": "stream",
     "text": [
      "[LibSVM]"
     ]
    },
    {
     "name": "stderr",
     "output_type": "stream",
     "text": [
      "/home/matheus/anaconda3/lib/python3.7/site-packages/sklearn/utils/validation.py:760: DataConversionWarning: A column-vector y was passed when a 1d array was expected. Please change the shape of y to (n_samples, ), for example using ravel().\n",
      "  y = column_or_1d(y, warn=True)\n"
     ]
    },
    {
     "name": "stdout",
     "output_type": "stream",
     "text": [
      "[LibSVM]"
     ]
    },
    {
     "name": "stderr",
     "output_type": "stream",
     "text": [
      "/home/matheus/anaconda3/lib/python3.7/site-packages/sklearn/utils/validation.py:760: DataConversionWarning: A column-vector y was passed when a 1d array was expected. Please change the shape of y to (n_samples, ), for example using ravel().\n",
      "  y = column_or_1d(y, warn=True)\n"
     ]
    },
    {
     "name": "stdout",
     "output_type": "stream",
     "text": [
      "[LibSVM]"
     ]
    },
    {
     "name": "stderr",
     "output_type": "stream",
     "text": [
      "/home/matheus/anaconda3/lib/python3.7/site-packages/sklearn/utils/validation.py:760: DataConversionWarning: A column-vector y was passed when a 1d array was expected. Please change the shape of y to (n_samples, ), for example using ravel().\n",
      "  y = column_or_1d(y, warn=True)\n"
     ]
    },
    {
     "name": "stdout",
     "output_type": "stream",
     "text": [
      "[LibSVM]"
     ]
    },
    {
     "name": "stderr",
     "output_type": "stream",
     "text": [
      "/home/matheus/anaconda3/lib/python3.7/site-packages/sklearn/utils/validation.py:760: DataConversionWarning: A column-vector y was passed when a 1d array was expected. Please change the shape of y to (n_samples, ), for example using ravel().\n",
      "  y = column_or_1d(y, warn=True)\n"
     ]
    },
    {
     "name": "stdout",
     "output_type": "stream",
     "text": [
      "[LibSVM]"
     ]
    },
    {
     "name": "stderr",
     "output_type": "stream",
     "text": [
      "/home/matheus/anaconda3/lib/python3.7/site-packages/sklearn/utils/validation.py:760: DataConversionWarning: A column-vector y was passed when a 1d array was expected. Please change the shape of y to (n_samples, ), for example using ravel().\n",
      "  y = column_or_1d(y, warn=True)\n"
     ]
    },
    {
     "name": "stdout",
     "output_type": "stream",
     "text": [
      "[LibSVM]"
     ]
    },
    {
     "name": "stderr",
     "output_type": "stream",
     "text": [
      "/home/matheus/anaconda3/lib/python3.7/site-packages/sklearn/utils/validation.py:760: DataConversionWarning: A column-vector y was passed when a 1d array was expected. Please change the shape of y to (n_samples, ), for example using ravel().\n",
      "  y = column_or_1d(y, warn=True)\n"
     ]
    },
    {
     "name": "stdout",
     "output_type": "stream",
     "text": [
      "[LibSVM]"
     ]
    },
    {
     "name": "stderr",
     "output_type": "stream",
     "text": [
      "/home/matheus/anaconda3/lib/python3.7/site-packages/sklearn/utils/validation.py:760: DataConversionWarning: A column-vector y was passed when a 1d array was expected. Please change the shape of y to (n_samples, ), for example using ravel().\n",
      "  y = column_or_1d(y, warn=True)\n"
     ]
    },
    {
     "name": "stdout",
     "output_type": "stream",
     "text": [
      "[LibSVM]"
     ]
    },
    {
     "name": "stderr",
     "output_type": "stream",
     "text": [
      "/home/matheus/anaconda3/lib/python3.7/site-packages/sklearn/utils/validation.py:760: DataConversionWarning: A column-vector y was passed when a 1d array was expected. Please change the shape of y to (n_samples, ), for example using ravel().\n",
      "  y = column_or_1d(y, warn=True)\n"
     ]
    },
    {
     "name": "stdout",
     "output_type": "stream",
     "text": [
      "[LibSVM]"
     ]
    },
    {
     "name": "stderr",
     "output_type": "stream",
     "text": [
      "/home/matheus/anaconda3/lib/python3.7/site-packages/sklearn/utils/validation.py:760: DataConversionWarning: A column-vector y was passed when a 1d array was expected. Please change the shape of y to (n_samples, ), for example using ravel().\n",
      "  y = column_or_1d(y, warn=True)\n"
     ]
    },
    {
     "name": "stdout",
     "output_type": "stream",
     "text": [
      "[LibSVM]"
     ]
    },
    {
     "name": "stderr",
     "output_type": "stream",
     "text": [
      "/home/matheus/anaconda3/lib/python3.7/site-packages/sklearn/utils/validation.py:760: DataConversionWarning: A column-vector y was passed when a 1d array was expected. Please change the shape of y to (n_samples, ), for example using ravel().\n",
      "  y = column_or_1d(y, warn=True)\n"
     ]
    },
    {
     "name": "stdout",
     "output_type": "stream",
     "text": [
      "[LibSVM]"
     ]
    },
    {
     "name": "stderr",
     "output_type": "stream",
     "text": [
      "/home/matheus/anaconda3/lib/python3.7/site-packages/sklearn/utils/validation.py:760: DataConversionWarning: A column-vector y was passed when a 1d array was expected. Please change the shape of y to (n_samples, ), for example using ravel().\n",
      "  y = column_or_1d(y, warn=True)\n"
     ]
    },
    {
     "name": "stdout",
     "output_type": "stream",
     "text": [
      "[LibSVM]"
     ]
    },
    {
     "name": "stderr",
     "output_type": "stream",
     "text": [
      "/home/matheus/anaconda3/lib/python3.7/site-packages/sklearn/utils/validation.py:760: DataConversionWarning: A column-vector y was passed when a 1d array was expected. Please change the shape of y to (n_samples, ), for example using ravel().\n",
      "  y = column_or_1d(y, warn=True)\n"
     ]
    },
    {
     "name": "stdout",
     "output_type": "stream",
     "text": [
      "[LibSVM]"
     ]
    },
    {
     "name": "stderr",
     "output_type": "stream",
     "text": [
      "/home/matheus/anaconda3/lib/python3.7/site-packages/sklearn/utils/validation.py:760: DataConversionWarning: A column-vector y was passed when a 1d array was expected. Please change the shape of y to (n_samples, ), for example using ravel().\n",
      "  y = column_or_1d(y, warn=True)\n"
     ]
    },
    {
     "name": "stdout",
     "output_type": "stream",
     "text": [
      "[LibSVM]"
     ]
    },
    {
     "name": "stderr",
     "output_type": "stream",
     "text": [
      "/home/matheus/anaconda3/lib/python3.7/site-packages/sklearn/utils/validation.py:760: DataConversionWarning: A column-vector y was passed when a 1d array was expected. Please change the shape of y to (n_samples, ), for example using ravel().\n",
      "  y = column_or_1d(y, warn=True)\n"
     ]
    },
    {
     "name": "stdout",
     "output_type": "stream",
     "text": [
      "[LibSVM]"
     ]
    },
    {
     "name": "stderr",
     "output_type": "stream",
     "text": [
      "/home/matheus/anaconda3/lib/python3.7/site-packages/sklearn/utils/validation.py:760: DataConversionWarning: A column-vector y was passed when a 1d array was expected. Please change the shape of y to (n_samples, ), for example using ravel().\n",
      "  y = column_or_1d(y, warn=True)\n"
     ]
    },
    {
     "name": "stdout",
     "output_type": "stream",
     "text": [
      "[LibSVM]"
     ]
    },
    {
     "name": "stderr",
     "output_type": "stream",
     "text": [
      "/home/matheus/anaconda3/lib/python3.7/site-packages/sklearn/utils/validation.py:760: DataConversionWarning: A column-vector y was passed when a 1d array was expected. Please change the shape of y to (n_samples, ), for example using ravel().\n",
      "  y = column_or_1d(y, warn=True)\n"
     ]
    },
    {
     "name": "stdout",
     "output_type": "stream",
     "text": [
      "[LibSVM]"
     ]
    },
    {
     "name": "stderr",
     "output_type": "stream",
     "text": [
      "/home/matheus/anaconda3/lib/python3.7/site-packages/sklearn/utils/validation.py:760: DataConversionWarning: A column-vector y was passed when a 1d array was expected. Please change the shape of y to (n_samples, ), for example using ravel().\n",
      "  y = column_or_1d(y, warn=True)\n"
     ]
    },
    {
     "name": "stdout",
     "output_type": "stream",
     "text": [
      "[LibSVM]"
     ]
    },
    {
     "name": "stderr",
     "output_type": "stream",
     "text": [
      "/home/matheus/anaconda3/lib/python3.7/site-packages/sklearn/utils/validation.py:760: DataConversionWarning: A column-vector y was passed when a 1d array was expected. Please change the shape of y to (n_samples, ), for example using ravel().\n",
      "  y = column_or_1d(y, warn=True)\n"
     ]
    },
    {
     "name": "stdout",
     "output_type": "stream",
     "text": [
      "[LibSVM]"
     ]
    },
    {
     "name": "stderr",
     "output_type": "stream",
     "text": [
      "/home/matheus/anaconda3/lib/python3.7/site-packages/sklearn/utils/validation.py:760: DataConversionWarning: A column-vector y was passed when a 1d array was expected. Please change the shape of y to (n_samples, ), for example using ravel().\n",
      "  y = column_or_1d(y, warn=True)\n"
     ]
    },
    {
     "name": "stdout",
     "output_type": "stream",
     "text": [
      "[LibSVM]"
     ]
    },
    {
     "name": "stderr",
     "output_type": "stream",
     "text": [
      "/home/matheus/anaconda3/lib/python3.7/site-packages/sklearn/utils/validation.py:760: DataConversionWarning: A column-vector y was passed when a 1d array was expected. Please change the shape of y to (n_samples, ), for example using ravel().\n",
      "  y = column_or_1d(y, warn=True)\n"
     ]
    },
    {
     "name": "stdout",
     "output_type": "stream",
     "text": [
      "[LibSVM]"
     ]
    },
    {
     "name": "stderr",
     "output_type": "stream",
     "text": [
      "/home/matheus/anaconda3/lib/python3.7/site-packages/sklearn/utils/validation.py:760: DataConversionWarning: A column-vector y was passed when a 1d array was expected. Please change the shape of y to (n_samples, ), for example using ravel().\n",
      "  y = column_or_1d(y, warn=True)\n"
     ]
    },
    {
     "name": "stdout",
     "output_type": "stream",
     "text": [
      "[LibSVM]"
     ]
    },
    {
     "name": "stderr",
     "output_type": "stream",
     "text": [
      "/home/matheus/anaconda3/lib/python3.7/site-packages/sklearn/utils/validation.py:760: DataConversionWarning: A column-vector y was passed when a 1d array was expected. Please change the shape of y to (n_samples, ), for example using ravel().\n",
      "  y = column_or_1d(y, warn=True)\n"
     ]
    },
    {
     "name": "stdout",
     "output_type": "stream",
     "text": [
      "[LibSVM]"
     ]
    },
    {
     "name": "stderr",
     "output_type": "stream",
     "text": [
      "/home/matheus/anaconda3/lib/python3.7/site-packages/sklearn/utils/validation.py:760: DataConversionWarning: A column-vector y was passed when a 1d array was expected. Please change the shape of y to (n_samples, ), for example using ravel().\n",
      "  y = column_or_1d(y, warn=True)\n"
     ]
    },
    {
     "name": "stdout",
     "output_type": "stream",
     "text": [
      "[LibSVM]"
     ]
    },
    {
     "name": "stderr",
     "output_type": "stream",
     "text": [
      "/home/matheus/anaconda3/lib/python3.7/site-packages/sklearn/utils/validation.py:760: DataConversionWarning: A column-vector y was passed when a 1d array was expected. Please change the shape of y to (n_samples, ), for example using ravel().\n",
      "  y = column_or_1d(y, warn=True)\n"
     ]
    },
    {
     "name": "stdout",
     "output_type": "stream",
     "text": [
      "[LibSVM]"
     ]
    },
    {
     "name": "stderr",
     "output_type": "stream",
     "text": [
      "/home/matheus/anaconda3/lib/python3.7/site-packages/sklearn/utils/validation.py:760: DataConversionWarning: A column-vector y was passed when a 1d array was expected. Please change the shape of y to (n_samples, ), for example using ravel().\n",
      "  y = column_or_1d(y, warn=True)\n"
     ]
    },
    {
     "name": "stdout",
     "output_type": "stream",
     "text": [
      "[LibSVM]"
     ]
    },
    {
     "name": "stderr",
     "output_type": "stream",
     "text": [
      "/home/matheus/anaconda3/lib/python3.7/site-packages/sklearn/utils/validation.py:760: DataConversionWarning: A column-vector y was passed when a 1d array was expected. Please change the shape of y to (n_samples, ), for example using ravel().\n",
      "  y = column_or_1d(y, warn=True)\n"
     ]
    },
    {
     "name": "stdout",
     "output_type": "stream",
     "text": [
      "[LibSVM]"
     ]
    },
    {
     "name": "stderr",
     "output_type": "stream",
     "text": [
      "/home/matheus/anaconda3/lib/python3.7/site-packages/sklearn/utils/validation.py:760: DataConversionWarning: A column-vector y was passed when a 1d array was expected. Please change the shape of y to (n_samples, ), for example using ravel().\n",
      "  y = column_or_1d(y, warn=True)\n"
     ]
    },
    {
     "name": "stdout",
     "output_type": "stream",
     "text": [
      "[LibSVM]"
     ]
    },
    {
     "name": "stderr",
     "output_type": "stream",
     "text": [
      "/home/matheus/anaconda3/lib/python3.7/site-packages/sklearn/utils/validation.py:760: DataConversionWarning: A column-vector y was passed when a 1d array was expected. Please change the shape of y to (n_samples, ), for example using ravel().\n",
      "  y = column_or_1d(y, warn=True)\n"
     ]
    },
    {
     "name": "stdout",
     "output_type": "stream",
     "text": [
      "[LibSVM]"
     ]
    },
    {
     "name": "stderr",
     "output_type": "stream",
     "text": [
      "/home/matheus/anaconda3/lib/python3.7/site-packages/sklearn/utils/validation.py:760: DataConversionWarning: A column-vector y was passed when a 1d array was expected. Please change the shape of y to (n_samples, ), for example using ravel().\n",
      "  y = column_or_1d(y, warn=True)\n"
     ]
    },
    {
     "name": "stdout",
     "output_type": "stream",
     "text": [
      "[LibSVM]"
     ]
    },
    {
     "name": "stderr",
     "output_type": "stream",
     "text": [
      "/home/matheus/anaconda3/lib/python3.7/site-packages/sklearn/utils/validation.py:760: DataConversionWarning: A column-vector y was passed when a 1d array was expected. Please change the shape of y to (n_samples, ), for example using ravel().\n",
      "  y = column_or_1d(y, warn=True)\n"
     ]
    },
    {
     "name": "stdout",
     "output_type": "stream",
     "text": [
      "[LibSVM]"
     ]
    },
    {
     "name": "stderr",
     "output_type": "stream",
     "text": [
      "/home/matheus/anaconda3/lib/python3.7/site-packages/sklearn/utils/validation.py:760: DataConversionWarning: A column-vector y was passed when a 1d array was expected. Please change the shape of y to (n_samples, ), for example using ravel().\n",
      "  y = column_or_1d(y, warn=True)\n"
     ]
    },
    {
     "name": "stdout",
     "output_type": "stream",
     "text": [
      "[LibSVM]"
     ]
    },
    {
     "name": "stderr",
     "output_type": "stream",
     "text": [
      "/home/matheus/anaconda3/lib/python3.7/site-packages/sklearn/utils/validation.py:760: DataConversionWarning: A column-vector y was passed when a 1d array was expected. Please change the shape of y to (n_samples, ), for example using ravel().\n",
      "  y = column_or_1d(y, warn=True)\n"
     ]
    },
    {
     "name": "stdout",
     "output_type": "stream",
     "text": [
      "[LibSVM]"
     ]
    },
    {
     "name": "stderr",
     "output_type": "stream",
     "text": [
      "/home/matheus/anaconda3/lib/python3.7/site-packages/sklearn/utils/validation.py:760: DataConversionWarning: A column-vector y was passed when a 1d array was expected. Please change the shape of y to (n_samples, ), for example using ravel().\n",
      "  y = column_or_1d(y, warn=True)\n"
     ]
    },
    {
     "name": "stdout",
     "output_type": "stream",
     "text": [
      "[LibSVM]"
     ]
    },
    {
     "name": "stderr",
     "output_type": "stream",
     "text": [
      "/home/matheus/anaconda3/lib/python3.7/site-packages/sklearn/utils/validation.py:760: DataConversionWarning: A column-vector y was passed when a 1d array was expected. Please change the shape of y to (n_samples, ), for example using ravel().\n",
      "  y = column_or_1d(y, warn=True)\n"
     ]
    },
    {
     "name": "stdout",
     "output_type": "stream",
     "text": [
      "[LibSVM]"
     ]
    },
    {
     "name": "stderr",
     "output_type": "stream",
     "text": [
      "/home/matheus/anaconda3/lib/python3.7/site-packages/sklearn/utils/validation.py:760: DataConversionWarning: A column-vector y was passed when a 1d array was expected. Please change the shape of y to (n_samples, ), for example using ravel().\n",
      "  y = column_or_1d(y, warn=True)\n"
     ]
    },
    {
     "name": "stdout",
     "output_type": "stream",
     "text": [
      "[LibSVM]"
     ]
    },
    {
     "name": "stderr",
     "output_type": "stream",
     "text": [
      "/home/matheus/anaconda3/lib/python3.7/site-packages/sklearn/utils/validation.py:760: DataConversionWarning: A column-vector y was passed when a 1d array was expected. Please change the shape of y to (n_samples, ), for example using ravel().\n",
      "  y = column_or_1d(y, warn=True)\n"
     ]
    },
    {
     "name": "stdout",
     "output_type": "stream",
     "text": [
      "[LibSVM]"
     ]
    },
    {
     "name": "stderr",
     "output_type": "stream",
     "text": [
      "/home/matheus/anaconda3/lib/python3.7/site-packages/sklearn/utils/validation.py:760: DataConversionWarning: A column-vector y was passed when a 1d array was expected. Please change the shape of y to (n_samples, ), for example using ravel().\n",
      "  y = column_or_1d(y, warn=True)\n"
     ]
    },
    {
     "name": "stdout",
     "output_type": "stream",
     "text": [
      "[LibSVM]"
     ]
    },
    {
     "name": "stderr",
     "output_type": "stream",
     "text": [
      "/home/matheus/anaconda3/lib/python3.7/site-packages/sklearn/utils/validation.py:760: DataConversionWarning: A column-vector y was passed when a 1d array was expected. Please change the shape of y to (n_samples, ), for example using ravel().\n",
      "  y = column_or_1d(y, warn=True)\n"
     ]
    },
    {
     "name": "stdout",
     "output_type": "stream",
     "text": [
      "[LibSVM]"
     ]
    },
    {
     "name": "stderr",
     "output_type": "stream",
     "text": [
      "/home/matheus/anaconda3/lib/python3.7/site-packages/sklearn/utils/validation.py:760: DataConversionWarning: A column-vector y was passed when a 1d array was expected. Please change the shape of y to (n_samples, ), for example using ravel().\n",
      "  y = column_or_1d(y, warn=True)\n"
     ]
    },
    {
     "name": "stdout",
     "output_type": "stream",
     "text": [
      "[LibSVM]"
     ]
    },
    {
     "name": "stderr",
     "output_type": "stream",
     "text": [
      "/home/matheus/anaconda3/lib/python3.7/site-packages/sklearn/utils/validation.py:760: DataConversionWarning: A column-vector y was passed when a 1d array was expected. Please change the shape of y to (n_samples, ), for example using ravel().\n",
      "  y = column_or_1d(y, warn=True)\n"
     ]
    },
    {
     "name": "stdout",
     "output_type": "stream",
     "text": [
      "[LibSVM]"
     ]
    },
    {
     "name": "stderr",
     "output_type": "stream",
     "text": [
      "/home/matheus/anaconda3/lib/python3.7/site-packages/sklearn/utils/validation.py:760: DataConversionWarning: A column-vector y was passed when a 1d array was expected. Please change the shape of y to (n_samples, ), for example using ravel().\n",
      "  y = column_or_1d(y, warn=True)\n"
     ]
    },
    {
     "name": "stdout",
     "output_type": "stream",
     "text": [
      "[LibSVM]"
     ]
    },
    {
     "name": "stderr",
     "output_type": "stream",
     "text": [
      "/home/matheus/anaconda3/lib/python3.7/site-packages/sklearn/utils/validation.py:760: DataConversionWarning: A column-vector y was passed when a 1d array was expected. Please change the shape of y to (n_samples, ), for example using ravel().\n",
      "  y = column_or_1d(y, warn=True)\n"
     ]
    },
    {
     "name": "stdout",
     "output_type": "stream",
     "text": [
      "[LibSVM]"
     ]
    },
    {
     "name": "stderr",
     "output_type": "stream",
     "text": [
      "/home/matheus/anaconda3/lib/python3.7/site-packages/sklearn/utils/validation.py:760: DataConversionWarning: A column-vector y was passed when a 1d array was expected. Please change the shape of y to (n_samples, ), for example using ravel().\n",
      "  y = column_or_1d(y, warn=True)\n"
     ]
    },
    {
     "name": "stdout",
     "output_type": "stream",
     "text": [
      "[LibSVM]"
     ]
    },
    {
     "name": "stderr",
     "output_type": "stream",
     "text": [
      "/home/matheus/anaconda3/lib/python3.7/site-packages/sklearn/utils/validation.py:760: DataConversionWarning: A column-vector y was passed when a 1d array was expected. Please change the shape of y to (n_samples, ), for example using ravel().\n",
      "  y = column_or_1d(y, warn=True)\n"
     ]
    },
    {
     "name": "stdout",
     "output_type": "stream",
     "text": [
      "[LibSVM]"
     ]
    },
    {
     "name": "stderr",
     "output_type": "stream",
     "text": [
      "/home/matheus/anaconda3/lib/python3.7/site-packages/sklearn/utils/validation.py:760: DataConversionWarning: A column-vector y was passed when a 1d array was expected. Please change the shape of y to (n_samples, ), for example using ravel().\n",
      "  y = column_or_1d(y, warn=True)\n"
     ]
    },
    {
     "name": "stdout",
     "output_type": "stream",
     "text": [
      "[LibSVM]"
     ]
    },
    {
     "name": "stderr",
     "output_type": "stream",
     "text": [
      "/home/matheus/anaconda3/lib/python3.7/site-packages/sklearn/utils/validation.py:760: DataConversionWarning: A column-vector y was passed when a 1d array was expected. Please change the shape of y to (n_samples, ), for example using ravel().\n",
      "  y = column_or_1d(y, warn=True)\n"
     ]
    },
    {
     "name": "stdout",
     "output_type": "stream",
     "text": [
      "[LibSVM]"
     ]
    },
    {
     "name": "stderr",
     "output_type": "stream",
     "text": [
      "/home/matheus/anaconda3/lib/python3.7/site-packages/sklearn/utils/validation.py:760: DataConversionWarning: A column-vector y was passed when a 1d array was expected. Please change the shape of y to (n_samples, ), for example using ravel().\n",
      "  y = column_or_1d(y, warn=True)\n"
     ]
    },
    {
     "name": "stdout",
     "output_type": "stream",
     "text": [
      "[LibSVM]"
     ]
    },
    {
     "name": "stderr",
     "output_type": "stream",
     "text": [
      "/home/matheus/anaconda3/lib/python3.7/site-packages/sklearn/utils/validation.py:760: DataConversionWarning: A column-vector y was passed when a 1d array was expected. Please change the shape of y to (n_samples, ), for example using ravel().\n",
      "  y = column_or_1d(y, warn=True)\n"
     ]
    },
    {
     "name": "stdout",
     "output_type": "stream",
     "text": [
      "[LibSVM]"
     ]
    },
    {
     "name": "stderr",
     "output_type": "stream",
     "text": [
      "/home/matheus/anaconda3/lib/python3.7/site-packages/sklearn/utils/validation.py:760: DataConversionWarning: A column-vector y was passed when a 1d array was expected. Please change the shape of y to (n_samples, ), for example using ravel().\n",
      "  y = column_or_1d(y, warn=True)\n"
     ]
    },
    {
     "name": "stdout",
     "output_type": "stream",
     "text": [
      "[LibSVM]"
     ]
    },
    {
     "name": "stderr",
     "output_type": "stream",
     "text": [
      "/home/matheus/anaconda3/lib/python3.7/site-packages/sklearn/utils/validation.py:760: DataConversionWarning: A column-vector y was passed when a 1d array was expected. Please change the shape of y to (n_samples, ), for example using ravel().\n",
      "  y = column_or_1d(y, warn=True)\n"
     ]
    },
    {
     "name": "stdout",
     "output_type": "stream",
     "text": [
      "[LibSVM]"
     ]
    },
    {
     "name": "stderr",
     "output_type": "stream",
     "text": [
      "/home/matheus/anaconda3/lib/python3.7/site-packages/sklearn/utils/validation.py:760: DataConversionWarning: A column-vector y was passed when a 1d array was expected. Please change the shape of y to (n_samples, ), for example using ravel().\n",
      "  y = column_or_1d(y, warn=True)\n"
     ]
    },
    {
     "name": "stdout",
     "output_type": "stream",
     "text": [
      "[LibSVM]"
     ]
    },
    {
     "name": "stderr",
     "output_type": "stream",
     "text": [
      "/home/matheus/anaconda3/lib/python3.7/site-packages/sklearn/utils/validation.py:760: DataConversionWarning: A column-vector y was passed when a 1d array was expected. Please change the shape of y to (n_samples, ), for example using ravel().\n",
      "  y = column_or_1d(y, warn=True)\n"
     ]
    },
    {
     "name": "stdout",
     "output_type": "stream",
     "text": [
      "[LibSVM]"
     ]
    },
    {
     "name": "stderr",
     "output_type": "stream",
     "text": [
      "/home/matheus/anaconda3/lib/python3.7/site-packages/sklearn/utils/validation.py:760: DataConversionWarning: A column-vector y was passed when a 1d array was expected. Please change the shape of y to (n_samples, ), for example using ravel().\n",
      "  y = column_or_1d(y, warn=True)\n"
     ]
    },
    {
     "name": "stdout",
     "output_type": "stream",
     "text": [
      "[LibSVM]"
     ]
    },
    {
     "name": "stderr",
     "output_type": "stream",
     "text": [
      "/home/matheus/anaconda3/lib/python3.7/site-packages/sklearn/utils/validation.py:760: DataConversionWarning: A column-vector y was passed when a 1d array was expected. Please change the shape of y to (n_samples, ), for example using ravel().\n",
      "  y = column_or_1d(y, warn=True)\n"
     ]
    },
    {
     "name": "stdout",
     "output_type": "stream",
     "text": [
      "[LibSVM]"
     ]
    },
    {
     "name": "stderr",
     "output_type": "stream",
     "text": [
      "/home/matheus/anaconda3/lib/python3.7/site-packages/sklearn/utils/validation.py:760: DataConversionWarning: A column-vector y was passed when a 1d array was expected. Please change the shape of y to (n_samples, ), for example using ravel().\n",
      "  y = column_or_1d(y, warn=True)\n"
     ]
    },
    {
     "name": "stdout",
     "output_type": "stream",
     "text": [
      "[LibSVM]"
     ]
    },
    {
     "name": "stderr",
     "output_type": "stream",
     "text": [
      "/home/matheus/anaconda3/lib/python3.7/site-packages/sklearn/utils/validation.py:760: DataConversionWarning: A column-vector y was passed when a 1d array was expected. Please change the shape of y to (n_samples, ), for example using ravel().\n",
      "  y = column_or_1d(y, warn=True)\n"
     ]
    },
    {
     "name": "stdout",
     "output_type": "stream",
     "text": [
      "[LibSVM]"
     ]
    },
    {
     "name": "stderr",
     "output_type": "stream",
     "text": [
      "/home/matheus/anaconda3/lib/python3.7/site-packages/sklearn/utils/validation.py:760: DataConversionWarning: A column-vector y was passed when a 1d array was expected. Please change the shape of y to (n_samples, ), for example using ravel().\n",
      "  y = column_or_1d(y, warn=True)\n"
     ]
    },
    {
     "name": "stdout",
     "output_type": "stream",
     "text": [
      "[LibSVM]"
     ]
    },
    {
     "name": "stderr",
     "output_type": "stream",
     "text": [
      "/home/matheus/anaconda3/lib/python3.7/site-packages/sklearn/utils/validation.py:760: DataConversionWarning: A column-vector y was passed when a 1d array was expected. Please change the shape of y to (n_samples, ), for example using ravel().\n",
      "  y = column_or_1d(y, warn=True)\n"
     ]
    },
    {
     "name": "stdout",
     "output_type": "stream",
     "text": [
      "[LibSVM]"
     ]
    },
    {
     "name": "stderr",
     "output_type": "stream",
     "text": [
      "/home/matheus/anaconda3/lib/python3.7/site-packages/sklearn/utils/validation.py:760: DataConversionWarning: A column-vector y was passed when a 1d array was expected. Please change the shape of y to (n_samples, ), for example using ravel().\n",
      "  y = column_or_1d(y, warn=True)\n"
     ]
    },
    {
     "name": "stdout",
     "output_type": "stream",
     "text": [
      "[LibSVM]"
     ]
    },
    {
     "name": "stderr",
     "output_type": "stream",
     "text": [
      "/home/matheus/anaconda3/lib/python3.7/site-packages/sklearn/utils/validation.py:760: DataConversionWarning: A column-vector y was passed when a 1d array was expected. Please change the shape of y to (n_samples, ), for example using ravel().\n",
      "  y = column_or_1d(y, warn=True)\n"
     ]
    },
    {
     "name": "stdout",
     "output_type": "stream",
     "text": [
      "[LibSVM]"
     ]
    },
    {
     "name": "stderr",
     "output_type": "stream",
     "text": [
      "/home/matheus/anaconda3/lib/python3.7/site-packages/sklearn/utils/validation.py:760: DataConversionWarning: A column-vector y was passed when a 1d array was expected. Please change the shape of y to (n_samples, ), for example using ravel().\n",
      "  y = column_or_1d(y, warn=True)\n"
     ]
    },
    {
     "name": "stdout",
     "output_type": "stream",
     "text": [
      "[LibSVM]"
     ]
    },
    {
     "name": "stderr",
     "output_type": "stream",
     "text": [
      "/home/matheus/anaconda3/lib/python3.7/site-packages/sklearn/utils/validation.py:760: DataConversionWarning: A column-vector y was passed when a 1d array was expected. Please change the shape of y to (n_samples, ), for example using ravel().\n",
      "  y = column_or_1d(y, warn=True)\n"
     ]
    },
    {
     "name": "stdout",
     "output_type": "stream",
     "text": [
      "[LibSVM]"
     ]
    },
    {
     "name": "stderr",
     "output_type": "stream",
     "text": [
      "/home/matheus/anaconda3/lib/python3.7/site-packages/sklearn/utils/validation.py:760: DataConversionWarning: A column-vector y was passed when a 1d array was expected. Please change the shape of y to (n_samples, ), for example using ravel().\n",
      "  y = column_or_1d(y, warn=True)\n"
     ]
    },
    {
     "name": "stdout",
     "output_type": "stream",
     "text": [
      "[LibSVM]"
     ]
    },
    {
     "name": "stderr",
     "output_type": "stream",
     "text": [
      "/home/matheus/anaconda3/lib/python3.7/site-packages/sklearn/utils/validation.py:760: DataConversionWarning: A column-vector y was passed when a 1d array was expected. Please change the shape of y to (n_samples, ), for example using ravel().\n",
      "  y = column_or_1d(y, warn=True)\n"
     ]
    },
    {
     "name": "stdout",
     "output_type": "stream",
     "text": [
      "[LibSVM]"
     ]
    },
    {
     "name": "stderr",
     "output_type": "stream",
     "text": [
      "/home/matheus/anaconda3/lib/python3.7/site-packages/sklearn/utils/validation.py:760: DataConversionWarning: A column-vector y was passed when a 1d array was expected. Please change the shape of y to (n_samples, ), for example using ravel().\n",
      "  y = column_or_1d(y, warn=True)\n"
     ]
    },
    {
     "name": "stdout",
     "output_type": "stream",
     "text": [
      "[LibSVM]"
     ]
    },
    {
     "name": "stderr",
     "output_type": "stream",
     "text": [
      "/home/matheus/anaconda3/lib/python3.7/site-packages/sklearn/utils/validation.py:760: DataConversionWarning: A column-vector y was passed when a 1d array was expected. Please change the shape of y to (n_samples, ), for example using ravel().\n",
      "  y = column_or_1d(y, warn=True)\n"
     ]
    },
    {
     "name": "stdout",
     "output_type": "stream",
     "text": [
      "[LibSVM]"
     ]
    },
    {
     "name": "stderr",
     "output_type": "stream",
     "text": [
      "/home/matheus/anaconda3/lib/python3.7/site-packages/sklearn/utils/validation.py:760: DataConversionWarning: A column-vector y was passed when a 1d array was expected. Please change the shape of y to (n_samples, ), for example using ravel().\n",
      "  y = column_or_1d(y, warn=True)\n"
     ]
    },
    {
     "name": "stdout",
     "output_type": "stream",
     "text": [
      "[LibSVM]"
     ]
    }
   ],
   "source": [
    "## Looping through the data size and training the model for each\n",
    "from sklearn.externals import joblib\n",
    "from sklearn.metrics import confusion_matrix\n",
    "from sklearn.metrics import accuracy_score\n",
    "\n",
    "for i in range(1, number_of_steps):\n",
    "    svm_model = joblib.load(MODEL_PATH+\"svm_original_data.pkl\")\n",
    "    \n",
    "    if i*data_batch > X_train.shape[0]-1:\n",
    "    \n",
    "        svm_model.fit(X_train[:X_train.shape[0]-1,:], y_train[:X_train.shape[0]-1])\n",
    "        acc = accuracy_score(y_train[:X_train.shape[0]-1],  svm_model.predict(X_train[:X_train.shape[0]-1,:]))\n",
    "        acc_value = accuracy_score(y_test,   svm_model.predict(X_test))\n",
    "        stats.append([acc,acc_value])\n",
    "        break\n",
    "    \n",
    "    svm_model.fit(X_train[:i*data_batch,:], y_train[:i*data_batch])\n",
    "    acc = accuracy_score(y_train[:i*data_batch],  svm_model.predict(X_train[:i*data_batch,:]))\n",
    "    acc_value = accuracy_score(y_test,   svm_model.predict(X_test))\n",
    "    stats.append([acc,acc_value])\n",
    "\n",
    "### Storing stats\n",
    "stats_aux = np.array(stats) \n",
    "header = ['accuracy','val_accuracy']\n",
    "stats_pd = pd.DataFrame(stats_aux,columns=header)\n",
    "stats_pd.to_csv(MODEL_PATH+'stats_svm.csv')\n"
   ]
  },
  {
   "cell_type": "code",
   "execution_count": 18,
   "metadata": {},
   "outputs": [
    {
     "data": {
      "text/html": [
       "<div>\n",
       "<style scoped>\n",
       "    .dataframe tbody tr th:only-of-type {\n",
       "        vertical-align: middle;\n",
       "    }\n",
       "\n",
       "    .dataframe tbody tr th {\n",
       "        vertical-align: top;\n",
       "    }\n",
       "\n",
       "    .dataframe thead th {\n",
       "        text-align: right;\n",
       "    }\n",
       "</style>\n",
       "<table border=\"1\" class=\"dataframe\">\n",
       "  <thead>\n",
       "    <tr style=\"text-align: right;\">\n",
       "      <th></th>\n",
       "      <th>accuracy</th>\n",
       "      <th>val_accuracy</th>\n",
       "    </tr>\n",
       "  </thead>\n",
       "  <tbody>\n",
       "    <tr>\n",
       "      <th>0</th>\n",
       "      <td>1.000000</td>\n",
       "      <td>0.583333</td>\n",
       "    </tr>\n",
       "    <tr>\n",
       "      <th>1</th>\n",
       "      <td>0.500000</td>\n",
       "      <td>0.635417</td>\n",
       "    </tr>\n",
       "    <tr>\n",
       "      <th>2</th>\n",
       "      <td>0.500000</td>\n",
       "      <td>0.635417</td>\n",
       "    </tr>\n",
       "    <tr>\n",
       "      <th>3</th>\n",
       "      <td>0.500000</td>\n",
       "      <td>0.635417</td>\n",
       "    </tr>\n",
       "    <tr>\n",
       "      <th>4</th>\n",
       "      <td>0.500000</td>\n",
       "      <td>0.635417</td>\n",
       "    </tr>\n",
       "    <tr>\n",
       "      <th>...</th>\n",
       "      <td>...</td>\n",
       "      <td>...</td>\n",
       "    </tr>\n",
       "    <tr>\n",
       "      <th>184</th>\n",
       "      <td>0.851351</td>\n",
       "      <td>0.822917</td>\n",
       "    </tr>\n",
       "    <tr>\n",
       "      <th>185</th>\n",
       "      <td>0.849462</td>\n",
       "      <td>0.822917</td>\n",
       "    </tr>\n",
       "    <tr>\n",
       "      <th>186</th>\n",
       "      <td>0.847594</td>\n",
       "      <td>0.822917</td>\n",
       "    </tr>\n",
       "    <tr>\n",
       "      <th>187</th>\n",
       "      <td>0.845745</td>\n",
       "      <td>0.822917</td>\n",
       "    </tr>\n",
       "    <tr>\n",
       "      <th>188</th>\n",
       "      <td>0.846561</td>\n",
       "      <td>0.822917</td>\n",
       "    </tr>\n",
       "  </tbody>\n",
       "</table>\n",
       "<p>189 rows × 2 columns</p>\n",
       "</div>"
      ],
      "text/plain": [
       "     accuracy  val_accuracy\n",
       "0    1.000000      0.583333\n",
       "1    0.500000      0.635417\n",
       "2    0.500000      0.635417\n",
       "3    0.500000      0.635417\n",
       "4    0.500000      0.635417\n",
       "..        ...           ...\n",
       "184  0.851351      0.822917\n",
       "185  0.849462      0.822917\n",
       "186  0.847594      0.822917\n",
       "187  0.845745      0.822917\n",
       "188  0.846561      0.822917\n",
       "\n",
       "[189 rows x 2 columns]"
      ]
     },
     "execution_count": 18,
     "metadata": {},
     "output_type": "execute_result"
    }
   ],
   "source": [
    "stats_pd"
   ]
  },
  {
   "cell_type": "code",
   "execution_count": 19,
   "metadata": {},
   "outputs": [],
   "source": [
    "### Setting plotting libraries\n",
    "from matplotlib import pyplot as plt\n",
    "%matplotlib notebook\n",
    "\n",
    "### This cell is meant to aglomerate the data into mean values of specified sized steps\n",
    "### The objective is to generate cleaner and more concise plots\n",
    "train_acc = np.array([1])\n",
    "test_acc = np.array([0])\n",
    "\n",
    "acc = np.array(stats_pd['accuracy'])\n",
    "val_acc = np.array(stats_pd['val_accuracy'])\n",
    "mean_step = 20\n",
    "for i in range(int(acc.shape[0]/mean_step)):\n",
    "    if (i+1)*mean_step > acc.shape[0]-1:\n",
    "            acc_mean = acc[i*mean_step:acc.shape[0]-1].mean()\n",
    "            val_acc_mean = acc[i*mean_step:val_acc.shape[0]-1].mean()\n",
    "            \n",
    "            train_acc = np.concatenate([train_acc, acc_mean], axis=0)\n",
    "            test_acc = np.concatenate([test_acc, val_acc_mean], axis=0)\n",
    "            break\n",
    "    \n",
    "    acc_mean = acc[i*mean_step:(i+1)*mean_step].mean()\n",
    "    val_acc_mean = val_acc[i*mean_step:(i+1)*mean_step].mean()\n",
    "    \n",
    "        \n",
    "    train_acc = np.append(train_acc, values=[acc_mean], axis=0)\n",
    "    test_acc = np.append(test_acc, values=[val_acc_mean], axis=0)"
   ]
  },
  {
   "cell_type": "code",
   "execution_count": 20,
   "metadata": {},
   "outputs": [
    {
     "data": {
      "application/javascript": [
       "/* Put everything inside the global mpl namespace */\n",
       "window.mpl = {};\n",
       "\n",
       "\n",
       "mpl.get_websocket_type = function() {\n",
       "    if (typeof(WebSocket) !== 'undefined') {\n",
       "        return WebSocket;\n",
       "    } else if (typeof(MozWebSocket) !== 'undefined') {\n",
       "        return MozWebSocket;\n",
       "    } else {\n",
       "        alert('Your browser does not have WebSocket support. ' +\n",
       "              'Please try Chrome, Safari or Firefox ≥ 6. ' +\n",
       "              'Firefox 4 and 5 are also supported but you ' +\n",
       "              'have to enable WebSockets in about:config.');\n",
       "    };\n",
       "}\n",
       "\n",
       "mpl.figure = function(figure_id, websocket, ondownload, parent_element) {\n",
       "    this.id = figure_id;\n",
       "\n",
       "    this.ws = websocket;\n",
       "\n",
       "    this.supports_binary = (this.ws.binaryType != undefined);\n",
       "\n",
       "    if (!this.supports_binary) {\n",
       "        var warnings = document.getElementById(\"mpl-warnings\");\n",
       "        if (warnings) {\n",
       "            warnings.style.display = 'block';\n",
       "            warnings.textContent = (\n",
       "                \"This browser does not support binary websocket messages. \" +\n",
       "                    \"Performance may be slow.\");\n",
       "        }\n",
       "    }\n",
       "\n",
       "    this.imageObj = new Image();\n",
       "\n",
       "    this.context = undefined;\n",
       "    this.message = undefined;\n",
       "    this.canvas = undefined;\n",
       "    this.rubberband_canvas = undefined;\n",
       "    this.rubberband_context = undefined;\n",
       "    this.format_dropdown = undefined;\n",
       "\n",
       "    this.image_mode = 'full';\n",
       "\n",
       "    this.root = $('<div/>');\n",
       "    this._root_extra_style(this.root)\n",
       "    this.root.attr('style', 'display: inline-block');\n",
       "\n",
       "    $(parent_element).append(this.root);\n",
       "\n",
       "    this._init_header(this);\n",
       "    this._init_canvas(this);\n",
       "    this._init_toolbar(this);\n",
       "\n",
       "    var fig = this;\n",
       "\n",
       "    this.waiting = false;\n",
       "\n",
       "    this.ws.onopen =  function () {\n",
       "            fig.send_message(\"supports_binary\", {value: fig.supports_binary});\n",
       "            fig.send_message(\"send_image_mode\", {});\n",
       "            if (mpl.ratio != 1) {\n",
       "                fig.send_message(\"set_dpi_ratio\", {'dpi_ratio': mpl.ratio});\n",
       "            }\n",
       "            fig.send_message(\"refresh\", {});\n",
       "        }\n",
       "\n",
       "    this.imageObj.onload = function() {\n",
       "            if (fig.image_mode == 'full') {\n",
       "                // Full images could contain transparency (where diff images\n",
       "                // almost always do), so we need to clear the canvas so that\n",
       "                // there is no ghosting.\n",
       "                fig.context.clearRect(0, 0, fig.canvas.width, fig.canvas.height);\n",
       "            }\n",
       "            fig.context.drawImage(fig.imageObj, 0, 0);\n",
       "        };\n",
       "\n",
       "    this.imageObj.onunload = function() {\n",
       "        fig.ws.close();\n",
       "    }\n",
       "\n",
       "    this.ws.onmessage = this._make_on_message_function(this);\n",
       "\n",
       "    this.ondownload = ondownload;\n",
       "}\n",
       "\n",
       "mpl.figure.prototype._init_header = function() {\n",
       "    var titlebar = $(\n",
       "        '<div class=\"ui-dialog-titlebar ui-widget-header ui-corner-all ' +\n",
       "        'ui-helper-clearfix\"/>');\n",
       "    var titletext = $(\n",
       "        '<div class=\"ui-dialog-title\" style=\"width: 100%; ' +\n",
       "        'text-align: center; padding: 3px;\"/>');\n",
       "    titlebar.append(titletext)\n",
       "    this.root.append(titlebar);\n",
       "    this.header = titletext[0];\n",
       "}\n",
       "\n",
       "\n",
       "\n",
       "mpl.figure.prototype._canvas_extra_style = function(canvas_div) {\n",
       "\n",
       "}\n",
       "\n",
       "\n",
       "mpl.figure.prototype._root_extra_style = function(canvas_div) {\n",
       "\n",
       "}\n",
       "\n",
       "mpl.figure.prototype._init_canvas = function() {\n",
       "    var fig = this;\n",
       "\n",
       "    var canvas_div = $('<div/>');\n",
       "\n",
       "    canvas_div.attr('style', 'position: relative; clear: both; outline: 0');\n",
       "\n",
       "    function canvas_keyboard_event(event) {\n",
       "        return fig.key_event(event, event['data']);\n",
       "    }\n",
       "\n",
       "    canvas_div.keydown('key_press', canvas_keyboard_event);\n",
       "    canvas_div.keyup('key_release', canvas_keyboard_event);\n",
       "    this.canvas_div = canvas_div\n",
       "    this._canvas_extra_style(canvas_div)\n",
       "    this.root.append(canvas_div);\n",
       "\n",
       "    var canvas = $('<canvas/>');\n",
       "    canvas.addClass('mpl-canvas');\n",
       "    canvas.attr('style', \"left: 0; top: 0; z-index: 0; outline: 0\")\n",
       "\n",
       "    this.canvas = canvas[0];\n",
       "    this.context = canvas[0].getContext(\"2d\");\n",
       "\n",
       "    var backingStore = this.context.backingStorePixelRatio ||\n",
       "\tthis.context.webkitBackingStorePixelRatio ||\n",
       "\tthis.context.mozBackingStorePixelRatio ||\n",
       "\tthis.context.msBackingStorePixelRatio ||\n",
       "\tthis.context.oBackingStorePixelRatio ||\n",
       "\tthis.context.backingStorePixelRatio || 1;\n",
       "\n",
       "    mpl.ratio = (window.devicePixelRatio || 1) / backingStore;\n",
       "\n",
       "    var rubberband = $('<canvas/>');\n",
       "    rubberband.attr('style', \"position: absolute; left: 0; top: 0; z-index: 1;\")\n",
       "\n",
       "    var pass_mouse_events = true;\n",
       "\n",
       "    canvas_div.resizable({\n",
       "        start: function(event, ui) {\n",
       "            pass_mouse_events = false;\n",
       "        },\n",
       "        resize: function(event, ui) {\n",
       "            fig.request_resize(ui.size.width, ui.size.height);\n",
       "        },\n",
       "        stop: function(event, ui) {\n",
       "            pass_mouse_events = true;\n",
       "            fig.request_resize(ui.size.width, ui.size.height);\n",
       "        },\n",
       "    });\n",
       "\n",
       "    function mouse_event_fn(event) {\n",
       "        if (pass_mouse_events)\n",
       "            return fig.mouse_event(event, event['data']);\n",
       "    }\n",
       "\n",
       "    rubberband.mousedown('button_press', mouse_event_fn);\n",
       "    rubberband.mouseup('button_release', mouse_event_fn);\n",
       "    // Throttle sequential mouse events to 1 every 20ms.\n",
       "    rubberband.mousemove('motion_notify', mouse_event_fn);\n",
       "\n",
       "    rubberband.mouseenter('figure_enter', mouse_event_fn);\n",
       "    rubberband.mouseleave('figure_leave', mouse_event_fn);\n",
       "\n",
       "    canvas_div.on(\"wheel\", function (event) {\n",
       "        event = event.originalEvent;\n",
       "        event['data'] = 'scroll'\n",
       "        if (event.deltaY < 0) {\n",
       "            event.step = 1;\n",
       "        } else {\n",
       "            event.step = -1;\n",
       "        }\n",
       "        mouse_event_fn(event);\n",
       "    });\n",
       "\n",
       "    canvas_div.append(canvas);\n",
       "    canvas_div.append(rubberband);\n",
       "\n",
       "    this.rubberband = rubberband;\n",
       "    this.rubberband_canvas = rubberband[0];\n",
       "    this.rubberband_context = rubberband[0].getContext(\"2d\");\n",
       "    this.rubberband_context.strokeStyle = \"#000000\";\n",
       "\n",
       "    this._resize_canvas = function(width, height) {\n",
       "        // Keep the size of the canvas, canvas container, and rubber band\n",
       "        // canvas in synch.\n",
       "        canvas_div.css('width', width)\n",
       "        canvas_div.css('height', height)\n",
       "\n",
       "        canvas.attr('width', width * mpl.ratio);\n",
       "        canvas.attr('height', height * mpl.ratio);\n",
       "        canvas.attr('style', 'width: ' + width + 'px; height: ' + height + 'px;');\n",
       "\n",
       "        rubberband.attr('width', width);\n",
       "        rubberband.attr('height', height);\n",
       "    }\n",
       "\n",
       "    // Set the figure to an initial 600x600px, this will subsequently be updated\n",
       "    // upon first draw.\n",
       "    this._resize_canvas(600, 600);\n",
       "\n",
       "    // Disable right mouse context menu.\n",
       "    $(this.rubberband_canvas).bind(\"contextmenu\",function(e){\n",
       "        return false;\n",
       "    });\n",
       "\n",
       "    function set_focus () {\n",
       "        canvas.focus();\n",
       "        canvas_div.focus();\n",
       "    }\n",
       "\n",
       "    window.setTimeout(set_focus, 100);\n",
       "}\n",
       "\n",
       "mpl.figure.prototype._init_toolbar = function() {\n",
       "    var fig = this;\n",
       "\n",
       "    var nav_element = $('<div/>');\n",
       "    nav_element.attr('style', 'width: 100%');\n",
       "    this.root.append(nav_element);\n",
       "\n",
       "    // Define a callback function for later on.\n",
       "    function toolbar_event(event) {\n",
       "        return fig.toolbar_button_onclick(event['data']);\n",
       "    }\n",
       "    function toolbar_mouse_event(event) {\n",
       "        return fig.toolbar_button_onmouseover(event['data']);\n",
       "    }\n",
       "\n",
       "    for(var toolbar_ind in mpl.toolbar_items) {\n",
       "        var name = mpl.toolbar_items[toolbar_ind][0];\n",
       "        var tooltip = mpl.toolbar_items[toolbar_ind][1];\n",
       "        var image = mpl.toolbar_items[toolbar_ind][2];\n",
       "        var method_name = mpl.toolbar_items[toolbar_ind][3];\n",
       "\n",
       "        if (!name) {\n",
       "            // put a spacer in here.\n",
       "            continue;\n",
       "        }\n",
       "        var button = $('<button/>');\n",
       "        button.addClass('ui-button ui-widget ui-state-default ui-corner-all ' +\n",
       "                        'ui-button-icon-only');\n",
       "        button.attr('role', 'button');\n",
       "        button.attr('aria-disabled', 'false');\n",
       "        button.click(method_name, toolbar_event);\n",
       "        button.mouseover(tooltip, toolbar_mouse_event);\n",
       "\n",
       "        var icon_img = $('<span/>');\n",
       "        icon_img.addClass('ui-button-icon-primary ui-icon');\n",
       "        icon_img.addClass(image);\n",
       "        icon_img.addClass('ui-corner-all');\n",
       "\n",
       "        var tooltip_span = $('<span/>');\n",
       "        tooltip_span.addClass('ui-button-text');\n",
       "        tooltip_span.html(tooltip);\n",
       "\n",
       "        button.append(icon_img);\n",
       "        button.append(tooltip_span);\n",
       "\n",
       "        nav_element.append(button);\n",
       "    }\n",
       "\n",
       "    var fmt_picker_span = $('<span/>');\n",
       "\n",
       "    var fmt_picker = $('<select/>');\n",
       "    fmt_picker.addClass('mpl-toolbar-option ui-widget ui-widget-content');\n",
       "    fmt_picker_span.append(fmt_picker);\n",
       "    nav_element.append(fmt_picker_span);\n",
       "    this.format_dropdown = fmt_picker[0];\n",
       "\n",
       "    for (var ind in mpl.extensions) {\n",
       "        var fmt = mpl.extensions[ind];\n",
       "        var option = $(\n",
       "            '<option/>', {selected: fmt === mpl.default_extension}).html(fmt);\n",
       "        fmt_picker.append(option);\n",
       "    }\n",
       "\n",
       "    // Add hover states to the ui-buttons\n",
       "    $( \".ui-button\" ).hover(\n",
       "        function() { $(this).addClass(\"ui-state-hover\");},\n",
       "        function() { $(this).removeClass(\"ui-state-hover\");}\n",
       "    );\n",
       "\n",
       "    var status_bar = $('<span class=\"mpl-message\"/>');\n",
       "    nav_element.append(status_bar);\n",
       "    this.message = status_bar[0];\n",
       "}\n",
       "\n",
       "mpl.figure.prototype.request_resize = function(x_pixels, y_pixels) {\n",
       "    // Request matplotlib to resize the figure. Matplotlib will then trigger a resize in the client,\n",
       "    // which will in turn request a refresh of the image.\n",
       "    this.send_message('resize', {'width': x_pixels, 'height': y_pixels});\n",
       "}\n",
       "\n",
       "mpl.figure.prototype.send_message = function(type, properties) {\n",
       "    properties['type'] = type;\n",
       "    properties['figure_id'] = this.id;\n",
       "    this.ws.send(JSON.stringify(properties));\n",
       "}\n",
       "\n",
       "mpl.figure.prototype.send_draw_message = function() {\n",
       "    if (!this.waiting) {\n",
       "        this.waiting = true;\n",
       "        this.ws.send(JSON.stringify({type: \"draw\", figure_id: this.id}));\n",
       "    }\n",
       "}\n",
       "\n",
       "\n",
       "mpl.figure.prototype.handle_save = function(fig, msg) {\n",
       "    var format_dropdown = fig.format_dropdown;\n",
       "    var format = format_dropdown.options[format_dropdown.selectedIndex].value;\n",
       "    fig.ondownload(fig, format);\n",
       "}\n",
       "\n",
       "\n",
       "mpl.figure.prototype.handle_resize = function(fig, msg) {\n",
       "    var size = msg['size'];\n",
       "    if (size[0] != fig.canvas.width || size[1] != fig.canvas.height) {\n",
       "        fig._resize_canvas(size[0], size[1]);\n",
       "        fig.send_message(\"refresh\", {});\n",
       "    };\n",
       "}\n",
       "\n",
       "mpl.figure.prototype.handle_rubberband = function(fig, msg) {\n",
       "    var x0 = msg['x0'] / mpl.ratio;\n",
       "    var y0 = (fig.canvas.height - msg['y0']) / mpl.ratio;\n",
       "    var x1 = msg['x1'] / mpl.ratio;\n",
       "    var y1 = (fig.canvas.height - msg['y1']) / mpl.ratio;\n",
       "    x0 = Math.floor(x0) + 0.5;\n",
       "    y0 = Math.floor(y0) + 0.5;\n",
       "    x1 = Math.floor(x1) + 0.5;\n",
       "    y1 = Math.floor(y1) + 0.5;\n",
       "    var min_x = Math.min(x0, x1);\n",
       "    var min_y = Math.min(y0, y1);\n",
       "    var width = Math.abs(x1 - x0);\n",
       "    var height = Math.abs(y1 - y0);\n",
       "\n",
       "    fig.rubberband_context.clearRect(\n",
       "        0, 0, fig.canvas.width / mpl.ratio, fig.canvas.height / mpl.ratio);\n",
       "\n",
       "    fig.rubberband_context.strokeRect(min_x, min_y, width, height);\n",
       "}\n",
       "\n",
       "mpl.figure.prototype.handle_figure_label = function(fig, msg) {\n",
       "    // Updates the figure title.\n",
       "    fig.header.textContent = msg['label'];\n",
       "}\n",
       "\n",
       "mpl.figure.prototype.handle_cursor = function(fig, msg) {\n",
       "    var cursor = msg['cursor'];\n",
       "    switch(cursor)\n",
       "    {\n",
       "    case 0:\n",
       "        cursor = 'pointer';\n",
       "        break;\n",
       "    case 1:\n",
       "        cursor = 'default';\n",
       "        break;\n",
       "    case 2:\n",
       "        cursor = 'crosshair';\n",
       "        break;\n",
       "    case 3:\n",
       "        cursor = 'move';\n",
       "        break;\n",
       "    }\n",
       "    fig.rubberband_canvas.style.cursor = cursor;\n",
       "}\n",
       "\n",
       "mpl.figure.prototype.handle_message = function(fig, msg) {\n",
       "    fig.message.textContent = msg['message'];\n",
       "}\n",
       "\n",
       "mpl.figure.prototype.handle_draw = function(fig, msg) {\n",
       "    // Request the server to send over a new figure.\n",
       "    fig.send_draw_message();\n",
       "}\n",
       "\n",
       "mpl.figure.prototype.handle_image_mode = function(fig, msg) {\n",
       "    fig.image_mode = msg['mode'];\n",
       "}\n",
       "\n",
       "mpl.figure.prototype.updated_canvas_event = function() {\n",
       "    // Called whenever the canvas gets updated.\n",
       "    this.send_message(\"ack\", {});\n",
       "}\n",
       "\n",
       "// A function to construct a web socket function for onmessage handling.\n",
       "// Called in the figure constructor.\n",
       "mpl.figure.prototype._make_on_message_function = function(fig) {\n",
       "    return function socket_on_message(evt) {\n",
       "        if (evt.data instanceof Blob) {\n",
       "            /* FIXME: We get \"Resource interpreted as Image but\n",
       "             * transferred with MIME type text/plain:\" errors on\n",
       "             * Chrome.  But how to set the MIME type?  It doesn't seem\n",
       "             * to be part of the websocket stream */\n",
       "            evt.data.type = \"image/png\";\n",
       "\n",
       "            /* Free the memory for the previous frames */\n",
       "            if (fig.imageObj.src) {\n",
       "                (window.URL || window.webkitURL).revokeObjectURL(\n",
       "                    fig.imageObj.src);\n",
       "            }\n",
       "\n",
       "            fig.imageObj.src = (window.URL || window.webkitURL).createObjectURL(\n",
       "                evt.data);\n",
       "            fig.updated_canvas_event();\n",
       "            fig.waiting = false;\n",
       "            return;\n",
       "        }\n",
       "        else if (typeof evt.data === 'string' && evt.data.slice(0, 21) == \"data:image/png;base64\") {\n",
       "            fig.imageObj.src = evt.data;\n",
       "            fig.updated_canvas_event();\n",
       "            fig.waiting = false;\n",
       "            return;\n",
       "        }\n",
       "\n",
       "        var msg = JSON.parse(evt.data);\n",
       "        var msg_type = msg['type'];\n",
       "\n",
       "        // Call the  \"handle_{type}\" callback, which takes\n",
       "        // the figure and JSON message as its only arguments.\n",
       "        try {\n",
       "            var callback = fig[\"handle_\" + msg_type];\n",
       "        } catch (e) {\n",
       "            console.log(\"No handler for the '\" + msg_type + \"' message type: \", msg);\n",
       "            return;\n",
       "        }\n",
       "\n",
       "        if (callback) {\n",
       "            try {\n",
       "                // console.log(\"Handling '\" + msg_type + \"' message: \", msg);\n",
       "                callback(fig, msg);\n",
       "            } catch (e) {\n",
       "                console.log(\"Exception inside the 'handler_\" + msg_type + \"' callback:\", e, e.stack, msg);\n",
       "            }\n",
       "        }\n",
       "    };\n",
       "}\n",
       "\n",
       "// from http://stackoverflow.com/questions/1114465/getting-mouse-location-in-canvas\n",
       "mpl.findpos = function(e) {\n",
       "    //this section is from http://www.quirksmode.org/js/events_properties.html\n",
       "    var targ;\n",
       "    if (!e)\n",
       "        e = window.event;\n",
       "    if (e.target)\n",
       "        targ = e.target;\n",
       "    else if (e.srcElement)\n",
       "        targ = e.srcElement;\n",
       "    if (targ.nodeType == 3) // defeat Safari bug\n",
       "        targ = targ.parentNode;\n",
       "\n",
       "    // jQuery normalizes the pageX and pageY\n",
       "    // pageX,Y are the mouse positions relative to the document\n",
       "    // offset() returns the position of the element relative to the document\n",
       "    var x = e.pageX - $(targ).offset().left;\n",
       "    var y = e.pageY - $(targ).offset().top;\n",
       "\n",
       "    return {\"x\": x, \"y\": y};\n",
       "};\n",
       "\n",
       "/*\n",
       " * return a copy of an object with only non-object keys\n",
       " * we need this to avoid circular references\n",
       " * http://stackoverflow.com/a/24161582/3208463\n",
       " */\n",
       "function simpleKeys (original) {\n",
       "  return Object.keys(original).reduce(function (obj, key) {\n",
       "    if (typeof original[key] !== 'object')\n",
       "        obj[key] = original[key]\n",
       "    return obj;\n",
       "  }, {});\n",
       "}\n",
       "\n",
       "mpl.figure.prototype.mouse_event = function(event, name) {\n",
       "    var canvas_pos = mpl.findpos(event)\n",
       "\n",
       "    if (name === 'button_press')\n",
       "    {\n",
       "        this.canvas.focus();\n",
       "        this.canvas_div.focus();\n",
       "    }\n",
       "\n",
       "    var x = canvas_pos.x * mpl.ratio;\n",
       "    var y = canvas_pos.y * mpl.ratio;\n",
       "\n",
       "    this.send_message(name, {x: x, y: y, button: event.button,\n",
       "                             step: event.step,\n",
       "                             guiEvent: simpleKeys(event)});\n",
       "\n",
       "    /* This prevents the web browser from automatically changing to\n",
       "     * the text insertion cursor when the button is pressed.  We want\n",
       "     * to control all of the cursor setting manually through the\n",
       "     * 'cursor' event from matplotlib */\n",
       "    event.preventDefault();\n",
       "    return false;\n",
       "}\n",
       "\n",
       "mpl.figure.prototype._key_event_extra = function(event, name) {\n",
       "    // Handle any extra behaviour associated with a key event\n",
       "}\n",
       "\n",
       "mpl.figure.prototype.key_event = function(event, name) {\n",
       "\n",
       "    // Prevent repeat events\n",
       "    if (name == 'key_press')\n",
       "    {\n",
       "        if (event.which === this._key)\n",
       "            return;\n",
       "        else\n",
       "            this._key = event.which;\n",
       "    }\n",
       "    if (name == 'key_release')\n",
       "        this._key = null;\n",
       "\n",
       "    var value = '';\n",
       "    if (event.ctrlKey && event.which != 17)\n",
       "        value += \"ctrl+\";\n",
       "    if (event.altKey && event.which != 18)\n",
       "        value += \"alt+\";\n",
       "    if (event.shiftKey && event.which != 16)\n",
       "        value += \"shift+\";\n",
       "\n",
       "    value += 'k';\n",
       "    value += event.which.toString();\n",
       "\n",
       "    this._key_event_extra(event, name);\n",
       "\n",
       "    this.send_message(name, {key: value,\n",
       "                             guiEvent: simpleKeys(event)});\n",
       "    return false;\n",
       "}\n",
       "\n",
       "mpl.figure.prototype.toolbar_button_onclick = function(name) {\n",
       "    if (name == 'download') {\n",
       "        this.handle_save(this, null);\n",
       "    } else {\n",
       "        this.send_message(\"toolbar_button\", {name: name});\n",
       "    }\n",
       "};\n",
       "\n",
       "mpl.figure.prototype.toolbar_button_onmouseover = function(tooltip) {\n",
       "    this.message.textContent = tooltip;\n",
       "};\n",
       "mpl.toolbar_items = [[\"Home\", \"Reset original view\", \"fa fa-home icon-home\", \"home\"], [\"Back\", \"Back to previous view\", \"fa fa-arrow-left icon-arrow-left\", \"back\"], [\"Forward\", \"Forward to next view\", \"fa fa-arrow-right icon-arrow-right\", \"forward\"], [\"\", \"\", \"\", \"\"], [\"Pan\", \"Pan axes with left mouse, zoom with right\", \"fa fa-arrows icon-move\", \"pan\"], [\"Zoom\", \"Zoom to rectangle\", \"fa fa-square-o icon-check-empty\", \"zoom\"], [\"\", \"\", \"\", \"\"], [\"Download\", \"Download plot\", \"fa fa-floppy-o icon-save\", \"download\"]];\n",
       "\n",
       "mpl.extensions = [\"eps\", \"jpeg\", \"pdf\", \"png\", \"ps\", \"raw\", \"svg\", \"tif\"];\n",
       "\n",
       "mpl.default_extension = \"png\";var comm_websocket_adapter = function(comm) {\n",
       "    // Create a \"websocket\"-like object which calls the given IPython comm\n",
       "    // object with the appropriate methods. Currently this is a non binary\n",
       "    // socket, so there is still some room for performance tuning.\n",
       "    var ws = {};\n",
       "\n",
       "    ws.close = function() {\n",
       "        comm.close()\n",
       "    };\n",
       "    ws.send = function(m) {\n",
       "        //console.log('sending', m);\n",
       "        comm.send(m);\n",
       "    };\n",
       "    // Register the callback with on_msg.\n",
       "    comm.on_msg(function(msg) {\n",
       "        //console.log('receiving', msg['content']['data'], msg);\n",
       "        // Pass the mpl event to the overridden (by mpl) onmessage function.\n",
       "        ws.onmessage(msg['content']['data'])\n",
       "    });\n",
       "    return ws;\n",
       "}\n",
       "\n",
       "mpl.mpl_figure_comm = function(comm, msg) {\n",
       "    // This is the function which gets called when the mpl process\n",
       "    // starts-up an IPython Comm through the \"matplotlib\" channel.\n",
       "\n",
       "    var id = msg.content.data.id;\n",
       "    // Get hold of the div created by the display call when the Comm\n",
       "    // socket was opened in Python.\n",
       "    var element = $(\"#\" + id);\n",
       "    var ws_proxy = comm_websocket_adapter(comm)\n",
       "\n",
       "    function ondownload(figure, format) {\n",
       "        window.open(figure.imageObj.src);\n",
       "    }\n",
       "\n",
       "    var fig = new mpl.figure(id, ws_proxy,\n",
       "                           ondownload,\n",
       "                           element.get(0));\n",
       "\n",
       "    // Call onopen now - mpl needs it, as it is assuming we've passed it a real\n",
       "    // web socket which is closed, not our websocket->open comm proxy.\n",
       "    ws_proxy.onopen();\n",
       "\n",
       "    fig.parent_element = element.get(0);\n",
       "    fig.cell_info = mpl.find_output_cell(\"<div id='\" + id + \"'></div>\");\n",
       "    if (!fig.cell_info) {\n",
       "        console.error(\"Failed to find cell for figure\", id, fig);\n",
       "        return;\n",
       "    }\n",
       "\n",
       "    var output_index = fig.cell_info[2]\n",
       "    var cell = fig.cell_info[0];\n",
       "\n",
       "};\n",
       "\n",
       "mpl.figure.prototype.handle_close = function(fig, msg) {\n",
       "    var width = fig.canvas.width/mpl.ratio\n",
       "    fig.root.unbind('remove')\n",
       "\n",
       "    // Update the output cell to use the data from the current canvas.\n",
       "    fig.push_to_output();\n",
       "    var dataURL = fig.canvas.toDataURL();\n",
       "    // Re-enable the keyboard manager in IPython - without this line, in FF,\n",
       "    // the notebook keyboard shortcuts fail.\n",
       "    IPython.keyboard_manager.enable()\n",
       "    $(fig.parent_element).html('<img src=\"' + dataURL + '\" width=\"' + width + '\">');\n",
       "    fig.close_ws(fig, msg);\n",
       "}\n",
       "\n",
       "mpl.figure.prototype.close_ws = function(fig, msg){\n",
       "    fig.send_message('closing', msg);\n",
       "    // fig.ws.close()\n",
       "}\n",
       "\n",
       "mpl.figure.prototype.push_to_output = function(remove_interactive) {\n",
       "    // Turn the data on the canvas into data in the output cell.\n",
       "    var width = this.canvas.width/mpl.ratio\n",
       "    var dataURL = this.canvas.toDataURL();\n",
       "    this.cell_info[1]['text/html'] = '<img src=\"' + dataURL + '\" width=\"' + width + '\">';\n",
       "}\n",
       "\n",
       "mpl.figure.prototype.updated_canvas_event = function() {\n",
       "    // Tell IPython that the notebook contents must change.\n",
       "    IPython.notebook.set_dirty(true);\n",
       "    this.send_message(\"ack\", {});\n",
       "    var fig = this;\n",
       "    // Wait a second, then push the new image to the DOM so\n",
       "    // that it is saved nicely (might be nice to debounce this).\n",
       "    setTimeout(function () { fig.push_to_output() }, 1000);\n",
       "}\n",
       "\n",
       "mpl.figure.prototype._init_toolbar = function() {\n",
       "    var fig = this;\n",
       "\n",
       "    var nav_element = $('<div/>');\n",
       "    nav_element.attr('style', 'width: 100%');\n",
       "    this.root.append(nav_element);\n",
       "\n",
       "    // Define a callback function for later on.\n",
       "    function toolbar_event(event) {\n",
       "        return fig.toolbar_button_onclick(event['data']);\n",
       "    }\n",
       "    function toolbar_mouse_event(event) {\n",
       "        return fig.toolbar_button_onmouseover(event['data']);\n",
       "    }\n",
       "\n",
       "    for(var toolbar_ind in mpl.toolbar_items){\n",
       "        var name = mpl.toolbar_items[toolbar_ind][0];\n",
       "        var tooltip = mpl.toolbar_items[toolbar_ind][1];\n",
       "        var image = mpl.toolbar_items[toolbar_ind][2];\n",
       "        var method_name = mpl.toolbar_items[toolbar_ind][3];\n",
       "\n",
       "        if (!name) { continue; };\n",
       "\n",
       "        var button = $('<button class=\"btn btn-default\" href=\"#\" title=\"' + name + '\"><i class=\"fa ' + image + ' fa-lg\"></i></button>');\n",
       "        button.click(method_name, toolbar_event);\n",
       "        button.mouseover(tooltip, toolbar_mouse_event);\n",
       "        nav_element.append(button);\n",
       "    }\n",
       "\n",
       "    // Add the status bar.\n",
       "    var status_bar = $('<span class=\"mpl-message\" style=\"text-align:right; float: right;\"/>');\n",
       "    nav_element.append(status_bar);\n",
       "    this.message = status_bar[0];\n",
       "\n",
       "    // Add the close button to the window.\n",
       "    var buttongrp = $('<div class=\"btn-group inline pull-right\"></div>');\n",
       "    var button = $('<button class=\"btn btn-mini btn-primary\" href=\"#\" title=\"Stop Interaction\"><i class=\"fa fa-power-off icon-remove icon-large\"></i></button>');\n",
       "    button.click(function (evt) { fig.handle_close(fig, {}); } );\n",
       "    button.mouseover('Stop Interaction', toolbar_mouse_event);\n",
       "    buttongrp.append(button);\n",
       "    var titlebar = this.root.find($('.ui-dialog-titlebar'));\n",
       "    titlebar.prepend(buttongrp);\n",
       "}\n",
       "\n",
       "mpl.figure.prototype._root_extra_style = function(el){\n",
       "    var fig = this\n",
       "    el.on(\"remove\", function(){\n",
       "\tfig.close_ws(fig, {});\n",
       "    });\n",
       "}\n",
       "\n",
       "mpl.figure.prototype._canvas_extra_style = function(el){\n",
       "    // this is important to make the div 'focusable\n",
       "    el.attr('tabindex', 0)\n",
       "    // reach out to IPython and tell the keyboard manager to turn it's self\n",
       "    // off when our div gets focus\n",
       "\n",
       "    // location in version 3\n",
       "    if (IPython.notebook.keyboard_manager) {\n",
       "        IPython.notebook.keyboard_manager.register_events(el);\n",
       "    }\n",
       "    else {\n",
       "        // location in version 2\n",
       "        IPython.keyboard_manager.register_events(el);\n",
       "    }\n",
       "\n",
       "}\n",
       "\n",
       "mpl.figure.prototype._key_event_extra = function(event, name) {\n",
       "    var manager = IPython.notebook.keyboard_manager;\n",
       "    if (!manager)\n",
       "        manager = IPython.keyboard_manager;\n",
       "\n",
       "    // Check for shift+enter\n",
       "    if (event.shiftKey && event.which == 13) {\n",
       "        this.canvas_div.blur();\n",
       "        // select the cell after this one\n",
       "        var index = IPython.notebook.find_cell_index(this.cell_info[0]);\n",
       "        IPython.notebook.select(index + 1);\n",
       "    }\n",
       "}\n",
       "\n",
       "mpl.figure.prototype.handle_save = function(fig, msg) {\n",
       "    fig.ondownload(fig, null);\n",
       "}\n",
       "\n",
       "\n",
       "mpl.find_output_cell = function(html_output) {\n",
       "    // Return the cell and output element which can be found *uniquely* in the notebook.\n",
       "    // Note - this is a bit hacky, but it is done because the \"notebook_saving.Notebook\"\n",
       "    // IPython event is triggered only after the cells have been serialised, which for\n",
       "    // our purposes (turning an active figure into a static one), is too late.\n",
       "    var cells = IPython.notebook.get_cells();\n",
       "    var ncells = cells.length;\n",
       "    for (var i=0; i<ncells; i++) {\n",
       "        var cell = cells[i];\n",
       "        if (cell.cell_type === 'code'){\n",
       "            for (var j=0; j<cell.output_area.outputs.length; j++) {\n",
       "                var data = cell.output_area.outputs[j];\n",
       "                if (data.data) {\n",
       "                    // IPython >= 3 moved mimebundle to data attribute of output\n",
       "                    data = data.data;\n",
       "                }\n",
       "                if (data['text/html'] == html_output) {\n",
       "                    return [cell, data, j];\n",
       "                }\n",
       "            }\n",
       "        }\n",
       "    }\n",
       "}\n",
       "\n",
       "// Register the function which deals with the matplotlib target/channel.\n",
       "// The kernel may be null if the page has been refreshed.\n",
       "if (IPython.notebook.kernel != null) {\n",
       "    IPython.notebook.kernel.comm_manager.register_target('matplotlib', mpl.mpl_figure_comm);\n",
       "}\n"
      ],
      "text/plain": [
       "<IPython.core.display.Javascript object>"
      ]
     },
     "metadata": {},
     "output_type": "display_data"
    },
    {
     "data": {
      "text/html": [
       "<img src=\"data:image/png;base64,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\" width=\"800\">"
      ],
      "text/plain": [
       "<IPython.core.display.HTML object>"
      ]
     },
     "metadata": {},
     "output_type": "display_data"
    }
   ],
   "source": [
    "### Error analysis plot\n",
    "fig = plt.figure(figsize=(8,6))\n",
    "fig.suptitle('Orignal Dataset Error Analysis', fontweight='bold', fontsize=14)\n",
    "\n",
    "ax = fig.add_subplot(1,1,1)\n",
    "\n",
    "x_axis = np.arange(train_acc.shape[0])\n",
    "x_axis = mean_step*x_axis\n",
    "\n",
    "ax.plot(x_axis, 100*train_acc, color='b', label='Train Set Accuracy')\n",
    "ax.plot(x_axis, 100*test_acc, color='r', label='Test Set Accuracy')\n",
    "\n",
    "ax.set_xlim(0, x_axis[len(x_axis)-1])\n",
    "ax.set_ylim(0,100)\n",
    "\n",
    "ax.set_xlabel('Quantity of data')\n",
    "ax.set_ylabel('Accuracy %')\n",
    "ax.set_title('Model performance vs quantity of data', fontweight='bold', fontsize=12)\n",
    "\n",
    "ax.legend(loc='lower right')\n",
    "\n",
    "plt.grid()\n",
    "plt.show()"
   ]
  },
  {
   "cell_type": "code",
   "execution_count": null,
   "metadata": {},
   "outputs": [],
   "source": []
  }
 ],
 "metadata": {
  "kernelspec": {
   "display_name": "Python 3.7.4 64-bit ('base': conda)",
   "language": "python",
   "name": "python37464bitbaseconda9f8ae86076534de9bc3bd26c61f9478f"
  },
  "language_info": {
   "codemirror_mode": {
    "name": "ipython",
    "version": 3
   },
   "file_extension": ".py",
   "mimetype": "text/x-python",
   "name": "python",
   "nbconvert_exporter": "python",
   "pygments_lexer": "ipython3",
   "version": "3.7.4"
  }
 },
 "nbformat": 4,
 "nbformat_minor": 4
}
